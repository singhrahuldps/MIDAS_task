{
  "nbformat": 4,
  "nbformat_minor": 0,
  "metadata": {
    "colab": {
      "name": "Speech Emotion.ipynb",
      "provenance": []
    },
    "kernelspec": {
      "name": "python3",
      "display_name": "Python 3"
    }
  },
  "cells": [
    {
      "cell_type": "markdown",
      "metadata": {
        "id": "Njd6eW6V3IUO",
        "colab_type": "text"
      },
      "source": [
        "Authenticating user profile to access google drive data"
      ]
    },
    {
      "cell_type": "code",
      "metadata": {
        "id": "k8ydApIIZScX",
        "colab_type": "code",
        "colab": {}
      },
      "source": [
        "from pydrive.auth import GoogleAuth\n",
        "from pydrive.drive import GoogleDrive\n",
        "from google.colab import auth\n",
        "from oauth2client.client import GoogleCredentials\n",
        "\n",
        "# 1. Authenticate and create the PyDrive client.\n",
        "auth.authenticate_user()\n",
        "gauth = GoogleAuth()\n",
        "gauth.credentials = GoogleCredentials.get_application_default()\n",
        "drive = GoogleDrive(gauth)"
      ],
      "execution_count": 0,
      "outputs": []
    },
    {
      "cell_type": "markdown",
      "metadata": {
        "id": "6W2ooCUr3OPQ",
        "colab_type": "text"
      },
      "source": [
        "downloading the dataset as emotion.zip"
      ]
    },
    {
      "cell_type": "code",
      "metadata": {
        "id": "EZ-1Z3q_ZXwN",
        "colab_type": "code",
        "colab": {}
      },
      "source": [
        "#downloaded = drive.CreateFile({'id':'1FUZJECbq2GSXnzoBXpptz0-3IapCXUKx'}) # replace the id with id of file you want to access\n",
        "#downloaded.GetContentFile('emotion.zip')"
      ],
      "execution_count": 0,
      "outputs": []
    },
    {
      "cell_type": "markdown",
      "metadata": {
        "id": "Pj-BM_CS3Ro3",
        "colab_type": "text"
      },
      "source": [
        "unzipping the dataset"
      ]
    },
    {
      "cell_type": "code",
      "metadata": {
        "id": "sz6OW6cE9Rqi",
        "colab_type": "code",
        "colab": {}
      },
      "source": [
        "#%%capture\n",
        "#!unzip emotion.zip"
      ],
      "execution_count": 0,
      "outputs": []
    },
    {
      "cell_type": "code",
      "metadata": {
        "id": "ByfYDMsd9YdJ",
        "colab_type": "code",
        "outputId": "fdd0ffb0-0e51-46e5-b831-443ea8ab8b95",
        "colab": {
          "base_uri": "https://localhost:8080/",
          "height": 34
        }
      },
      "source": [
        "!ls"
      ],
      "execution_count": 4,
      "outputs": [
        {
          "output_type": "stream",
          "text": [
            "adc.json  emotion.zip  meld  sample_data\n"
          ],
          "name": "stdout"
        }
      ]
    },
    {
      "cell_type": "code",
      "metadata": {
        "id": "OZvGH6R2-lZH",
        "colab_type": "code",
        "colab": {}
      },
      "source": [
        "%reload_ext autoreload\n",
        "%autoreload 2\n",
        "%matplotlib inline"
      ],
      "execution_count": 0,
      "outputs": []
    },
    {
      "cell_type": "markdown",
      "metadata": {
        "id": "LPKncxj-3bvO",
        "colab_type": "text"
      },
      "source": [
        "Loading the required libraries"
      ]
    },
    {
      "cell_type": "code",
      "metadata": {
        "id": "Sn_j_l1w_Gtc",
        "colab_type": "code",
        "colab": {}
      },
      "source": [
        "import librosa\n",
        "import librosa.display\n",
        "import os, glob, pickle\n",
        "import numpy as np\n",
        "import pathlib\n",
        "import matplotlib.pyplot as plt\n",
        "from sklearn.model_selection import train_test_split\n",
        "from sklearn.neural_network import MLPClassifier\n",
        "from sklearn.metrics import accuracy_score\n",
        "from sklearn.metrics import confusion_matrix"
      ],
      "execution_count": 0,
      "outputs": []
    },
    {
      "cell_type": "code",
      "metadata": {
        "id": "_gyjH_iGef3V",
        "colab_type": "code",
        "colab": {}
      },
      "source": [
        "from sklearn.neural_network import MLPClassifier\n",
        "from sklearn.neighbors import KNeighborsClassifier\n",
        "from sklearn.svm import SVC\n",
        "from sklearn.svm import LinearSVC\n",
        "from sklearn.gaussian_process import GaussianProcessClassifier\n",
        "from sklearn.gaussian_process.kernels import RBF\n",
        "from sklearn.tree import DecisionTreeClassifier\n",
        "from sklearn.ensemble import RandomForestClassifier, AdaBoostClassifier\n",
        "from sklearn.naive_bayes import GaussianNB, MultinomialNB\n",
        "from sklearn.discriminant_analysis import QuadraticDiscriminantAnalysis\n",
        "from sklearn.linear_model import LogisticRegression\n",
        "\n",
        "from sklearn.preprocessing import Normalizer\n",
        "from sklearn.preprocessing import StandardScaler\n",
        "\n",
        "from sklearn.feature_selection import SelectKBest, GenericUnivariateSelect, SelectFromModel, VarianceThreshold\n",
        "from sklearn.feature_selection import chi2, f_classif, mutual_info_classif\n",
        "from sklearn.ensemble import BaggingClassifier, VotingClassifier\n",
        "from sklearn.feature_extraction.text import TfidfTransformer\n",
        "from sklearn.metrics import f1_score,precision_score,recall_score,accuracy_score\n",
        "from sklearn.svm import LinearSVC\n",
        "from sklearn.multiclass import OneVsOneClassifier\n",
        "from sklearn.multiclass import OneVsRestClassifier\n",
        "from sklearn.feature_extraction.text import CountVectorizer\n",
        "from sklearn import preprocessing\n",
        "from sklearn.decomposition import PCA\n",
        "from sklearn.preprocessing import MinMaxScaler\n",
        "from sklearn.metrics import precision_recall_fscore_support"
      ],
      "execution_count": 0,
      "outputs": []
    },
    {
      "cell_type": "code",
      "metadata": {
        "id": "QfD-_xx_GiE-",
        "colab_type": "code",
        "colab": {}
      },
      "source": [
        "import random\n",
        "from scipy.io import wavfile\n",
        "from sklearn.model_selection import train_test_split"
      ],
      "execution_count": 0,
      "outputs": []
    },
    {
      "cell_type": "code",
      "metadata": {
        "id": "IWkvDOUAZw2_",
        "colab_type": "code",
        "colab": {}
      },
      "source": [
        "from sklearn.decomposition import PCA\n",
        "from sklearn.multiclass import OneVsRestClassifier, OneVsOneClassifier\n",
        "from sklearn.feature_selection import SelectKBest, chi2\n",
        "from sklearn.preprocessing import MaxAbsScaler\n",
        "from collections import Counter\n",
        "from imblearn.over_sampling import SMOTE"
      ],
      "execution_count": 0,
      "outputs": []
    },
    {
      "cell_type": "markdown",
      "metadata": {
        "id": "zY8EIGnO3ewq",
        "colab_type": "text"
      },
      "source": [
        "Giving numeric class labels to the text class names"
      ]
    },
    {
      "cell_type": "code",
      "metadata": {
        "id": "On9c8SPCatYS",
        "colab_type": "code",
        "colab": {}
      },
      "source": [
        "d = {'disgust':2, 'fear':4, 'happy':1, 'neutral':0, 'sad':3}"
      ],
      "execution_count": 0,
      "outputs": []
    },
    {
      "cell_type": "markdown",
      "metadata": {
        "id": "0fuS7A4y3mUn",
        "colab_type": "text"
      },
      "source": [
        "function to extract features from a single sound file"
      ]
    },
    {
      "cell_type": "code",
      "metadata": {
        "id": "D3GYxbsMaPDC",
        "colab_type": "code",
        "colab": {}
      },
      "source": [
        "def sound2features(filename):\n",
        "    sr, y = wavfile.read(filename)\n",
        "    y = y.astype('float32')\n",
        "    y = np.mean(y,axis=1)/32767\n",
        "    mfcc = librosa.feature.mfcc(\n",
        "                y=y, sr=sr, hop_length=512)\n",
        "    spectral_center = librosa.feature.spectral_centroid(\n",
        "                y=y, sr=sr, hop_length=512)\n",
        "    chroma = librosa.feature.chroma_stft(y=y, sr=sr, hop_length=512)\n",
        "    spectral_contrast = librosa.feature.spectral_contrast(\n",
        "                y=y, sr=sr, hop_length=512)\n",
        "    spectral_bandwidth = librosa.feature.spectral_bandwidth(y=y, sr=sr, hop_length=512)\n",
        "    flatness = librosa.feature.spectral_flatness(y=y, hop_length=512)\n",
        "    zero_crossing = librosa.feature.zero_crossing_rate(y, hop_length=512)\n",
        "    #mel = librosa.feature.melspectrogram(y=y, sr=sr, hop_length=512)\n",
        "    res = np.concatenate((mfcc,spectral_center, chroma, spectral_contrast, spectral_bandwidth, flatness, zero_crossing), 0)\n",
        "    res = np.mean(res, axis=1)\n",
        "    return res"
      ],
      "execution_count": 0,
      "outputs": []
    },
    {
      "cell_type": "markdown",
      "metadata": {
        "id": "N2aKqdQ23rCb",
        "colab_type": "text"
      },
      "source": [
        "function to process all the sound files in a folder and return a numpy array"
      ]
    },
    {
      "cell_type": "code",
      "metadata": {
        "id": "GhOox3B2aggS",
        "colab_type": "code",
        "colab": {}
      },
      "source": [
        "def folder2features(folder):\n",
        "    x = []\n",
        "    y = []\n",
        "    for p in folder.ls():\n",
        "        tag = str(p).split(\"/\")[-1]\n",
        "        print(tag, end = \" \")\n",
        "        for soundfile in p.ls():\n",
        "            x.append(sound2features(str(soundfile)))\n",
        "            y.append(d[tag])\n",
        "    x = np.array(x)\n",
        "    y = np.array(y)\n",
        "    return x, y"
      ],
      "execution_count": 0,
      "outputs": []
    },
    {
      "cell_type": "markdown",
      "metadata": {
        "id": "s4pTy6tI3x7w",
        "colab_type": "text"
      },
      "source": [
        "generating the train and val features"
      ]
    },
    {
      "cell_type": "code",
      "metadata": {
        "colab_type": "code",
        "outputId": "295e1760-9679-4f7e-c04d-130bbd053dea",
        "id": "KpNMFCOvsMDT",
        "colab": {
          "base_uri": "https://localhost:8080/",
          "height": 34
        }
      },
      "source": [
        "#x_train, y_train = folder2features(Path('meld/train/'))"
      ],
      "execution_count": 17,
      "outputs": [
        {
          "output_type": "stream",
          "text": [
            "fear sad neutral disgust happy "
          ],
          "name": "stdout"
        }
      ]
    },
    {
      "cell_type": "code",
      "metadata": {
        "colab_type": "code",
        "outputId": "70d0905f-6cc5-454f-9718-6896d5c92353",
        "id": "6tb5h-qisMDg",
        "colab": {
          "base_uri": "https://localhost:8080/",
          "height": 34
        }
      },
      "source": [
        "#x_val, y_val = folder2features(Path('meld/val/'))"
      ],
      "execution_count": 21,
      "outputs": [
        {
          "output_type": "stream",
          "text": [
            "fear sad neutral disgust happy "
          ],
          "name": "stdout"
        }
      ]
    },
    {
      "cell_type": "markdown",
      "metadata": {
        "id": "clZ9AAl13176",
        "colab_type": "text"
      },
      "source": [
        "saving the generated features as pickle files to load them later"
      ]
    },
    {
      "cell_type": "code",
      "metadata": {
        "colab_type": "code",
        "id": "zg6sowZG137c",
        "colab": {}
      },
      "source": [
        "#with open('xtrain.pkl','wb') as f: pickle.dump(x_train, f)\n",
        "#with open('ytrain.pkl','wb') as f: pickle.dump(y_train, f)\n",
        "#with open('xval.pkl','wb') as f: pickle.dump(x_val, f)\n",
        "#with open('yval.pkl','wb') as f: pickle.dump(y_val, f)"
      ],
      "execution_count": 0,
      "outputs": []
    },
    {
      "cell_type": "code",
      "metadata": {
        "colab_type": "code",
        "id": "1cH19lsz137j",
        "colab": {}
      },
      "source": [
        "with open('xtrain.pkl','rb') as f: x_train = pickle.load(f)\n",
        "with open('ytrain.pkl','rb') as f: y_train = pickle.load(f)\n",
        "with open('xval.pkl','rb') as f: x_val = pickle.load(f)\n",
        "with open('yval.pkl','rb') as f: y_val = pickle.load(f)"
      ],
      "execution_count": 0,
      "outputs": []
    },
    {
      "cell_type": "markdown",
      "metadata": {
        "id": "RHJuN_y937ov",
        "colab_type": "text"
      },
      "source": [
        "here we see that the dataset has a very high class imbalance"
      ]
    },
    {
      "cell_type": "code",
      "metadata": {
        "id": "g9TYXB8Juh4p",
        "colab_type": "code",
        "colab": {
          "base_uri": "https://localhost:8080/",
          "height": 51
        },
        "outputId": "dddf4b35-52ad-4b44-9428-f3d4daa451b3"
      },
      "source": [
        "print(\"Train :\", sorted(Counter(y_train).items()))\n",
        "print(\"Val   :\", sorted(Counter(y_val).items()))"
      ],
      "execution_count": 386,
      "outputs": [
        {
          "output_type": "stream",
          "text": [
            "Train : [(0, 4592), (1, 1609), (2, 232), (3, 705), (4, 216)]\n",
            "Val   : [(0, 517), (1, 181), (2, 28), (3, 79), (4, 25)]\n"
          ],
          "name": "stdout"
        }
      ]
    },
    {
      "cell_type": "markdown",
      "metadata": {
        "id": "kdDeVsWd4ATd",
        "colab_type": "text"
      },
      "source": [
        "we normalise the dataset to bring it into a respectable range for processing by ml algorithms"
      ]
    },
    {
      "cell_type": "code",
      "metadata": {
        "id": "V6O0AAozrpmJ",
        "colab_type": "code",
        "colab": {}
      },
      "source": [
        "scaler = StandardScaler().fit(x_train)\n",
        "x_train = scaler.transform(x_train)\n",
        "x_val = scaler.transform(x_val)"
      ],
      "execution_count": 0,
      "outputs": []
    },
    {
      "cell_type": "markdown",
      "metadata": {
        "id": "Ur08-9Iq4Hef",
        "colab_type": "text"
      },
      "source": [
        "since we generated all possible features from the librosa library, so here we sort out the most relevant 40 features"
      ]
    },
    {
      "cell_type": "code",
      "metadata": {
        "id": "uphxpF9aocV1",
        "colab_type": "code",
        "colab": {}
      },
      "source": [
        "sel = SelectKBest(f_classif, k=40)\n",
        "xt = sel.fit_transform(x_train, y_train)\n",
        "xv = sel.transform(x_val)"
      ],
      "execution_count": 0,
      "outputs": []
    },
    {
      "cell_type": "markdown",
      "metadata": {
        "id": "7cDAL6IB4REl",
        "colab_type": "text"
      },
      "source": [
        "OneVsRest classifier is the goto classifier when dealing with multilabel classification as it trains individual classifiers for each class with respect to the rest of dataset"
      ]
    },
    {
      "cell_type": "code",
      "metadata": {
        "id": "fdu5rczwa_rF",
        "colab_type": "code",
        "colab": {
          "base_uri": "https://localhost:8080/",
          "height": 34
        },
        "outputId": "741ac267-b6f2-4fd8-f0b6-e37679fce4ec"
      },
      "source": [
        "clf = OneVsRestClassifier(KNeighborsClassifier(n_neighbors=3))\n",
        "clf.fit(xt, y_train)\n",
        "y_pred=clf.predict(xt)\n",
        "print(\"Train accuracy    :\",accuracy_score(y_true=y_train, y_pred=y_pred))"
      ],
      "execution_count": 411,
      "outputs": [
        {
          "output_type": "stream",
          "text": [
            "Train accuracy    : 0.727223279847702\n"
          ],
          "name": "stdout"
        }
      ]
    },
    {
      "cell_type": "code",
      "metadata": {
        "id": "5ji7dGJobIUd",
        "colab_type": "code",
        "colab": {
          "base_uri": "https://localhost:8080/",
          "height": 102
        },
        "outputId": "b95fe11b-0c11-418e-ed83-cb0bdefc6ae1"
      },
      "source": [
        "confusion_matrix(y_train, y_pred)"
      ],
      "execution_count": 412,
      "outputs": [
        {
          "output_type": "execute_result",
          "data": {
            "text/plain": [
              "array([[4013,  166,   69,  271,   73],\n",
              "       [ 532,  721,   68,  232,   56],\n",
              "       [  73,   13,   95,   39,   12],\n",
              "       [ 248,   26,    4,  393,   34],\n",
              "       [  75,   10,    0,    5,  126]])"
            ]
          },
          "metadata": {
            "tags": []
          },
          "execution_count": 412
        }
      ]
    },
    {
      "cell_type": "code",
      "metadata": {
        "id": "jvpS0XrsbGEC",
        "colab_type": "code",
        "colab": {
          "base_uri": "https://localhost:8080/",
          "height": 34
        },
        "outputId": "8f5425ee-d063-47a0-da54-952608d50e72"
      },
      "source": [
        "y_pred=clf.predict(xv)\n",
        "print(\"Val accuracy      :\",accuracy_score(y_true=y_val, y_pred=y_pred))"
      ],
      "execution_count": 413,
      "outputs": [
        {
          "output_type": "stream",
          "text": [
            "Val accuracy      : 0.4566265060240964\n"
          ],
          "name": "stdout"
        }
      ]
    },
    {
      "cell_type": "code",
      "metadata": {
        "id": "y4RXlS8HbEdl",
        "colab_type": "code",
        "colab": {
          "base_uri": "https://localhost:8080/",
          "height": 102
        },
        "outputId": "4bf78811-bf0f-4905-dc2d-5225e807ecf1"
      },
      "source": [
        "confusion_matrix(y_val, y_pred)"
      ],
      "execution_count": 414,
      "outputs": [
        {
          "output_type": "execute_result",
          "data": {
            "text/plain": [
              "array([[342,  55,  12,  80,  28],\n",
              "       [118,  23,   7,  25,   8],\n",
              "       [ 13,   6,   1,   5,   3],\n",
              "       [ 52,   8,   2,  12,   5],\n",
              "       [ 19,   4,   0,   1,   1]])"
            ]
          },
          "metadata": {
            "tags": []
          },
          "execution_count": 414
        }
      ]
    },
    {
      "cell_type": "code",
      "metadata": {
        "id": "t6r2RRdJ2Tuz",
        "colab_type": "code",
        "colab": {}
      },
      "source": [
        ""
      ],
      "execution_count": 0,
      "outputs": []
    }
  ]
}