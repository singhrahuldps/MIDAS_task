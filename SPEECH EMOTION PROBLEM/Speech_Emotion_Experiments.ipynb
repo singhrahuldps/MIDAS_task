{
  "nbformat": 4,
  "nbformat_minor": 0,
  "metadata": {
    "colab": {
      "name": "Speech Emotion Approaches.ipynb",
      "provenance": [],
      "collapsed_sections": [],
      "machine_shape": "hm"
    },
    "kernelspec": {
      "name": "python3",
      "display_name": "Python 3"
    },
    "accelerator": "GPU"
  },
  "cells": [
    {
      "cell_type": "code",
      "metadata": {
        "id": "RjdoJoW0841s",
        "colab_type": "code",
        "colab": {}
      },
      "source": [
        "from pydrive.auth import GoogleAuth\n",
        "from pydrive.drive import GoogleDrive\n",
        "from google.colab import auth\n",
        "from oauth2client.client import GoogleCredentials\n",
        "\n",
        "# 1. Authenticate and create the PyDrive client.\n",
        "auth.authenticate_user()\n",
        "gauth = GoogleAuth()\n",
        "gauth.credentials = GoogleCredentials.get_application_default()\n",
        "drive = GoogleDrive(gauth)"
      ],
      "execution_count": 0,
      "outputs": []
    },
    {
      "cell_type": "code",
      "metadata": {
        "id": "E5dWPgMt86bh",
        "colab_type": "code",
        "colab": {}
      },
      "source": [
        "downloaded = drive.CreateFile({'id':'1FUZJECbq2GSXnzoBXpptz0-3IapCXUKx'}) # replace the id with id of file you want to access\n",
        "downloaded.GetContentFile('emotion.zip')"
      ],
      "execution_count": 0,
      "outputs": []
    },
    {
      "cell_type": "code",
      "metadata": {
        "id": "sz6OW6cE9Rqi",
        "colab_type": "code",
        "colab": {}
      },
      "source": [
        "%%capture\n",
        "!unzip emotion.zip"
      ],
      "execution_count": 0,
      "outputs": []
    },
    {
      "cell_type": "code",
      "metadata": {
        "id": "ByfYDMsd9YdJ",
        "colab_type": "code",
        "outputId": "b284712d-b674-4fc6-beab-c0e36ef728f6",
        "colab": {
          "base_uri": "https://localhost:8080/",
          "height": 34
        }
      },
      "source": [
        "!ls"
      ],
      "execution_count": 4,
      "outputs": [
        {
          "output_type": "stream",
          "text": [
            "adc.json  emotion.zip  meld  sample_data\n"
          ],
          "name": "stdout"
        }
      ]
    },
    {
      "cell_type": "code",
      "metadata": {
        "id": "OZvGH6R2-lZH",
        "colab_type": "code",
        "colab": {}
      },
      "source": [
        "%reload_ext autoreload\n",
        "%autoreload 2\n",
        "%matplotlib inline"
      ],
      "execution_count": 0,
      "outputs": []
    },
    {
      "cell_type": "code",
      "metadata": {
        "id": "WVmhXaJ5iT3V",
        "colab_type": "code",
        "colab": {}
      },
      "source": [
        "import os\n",
        "os.environ['CUDA_LAUNCH_BLOCKING'] = \"0\""
      ],
      "execution_count": 0,
      "outputs": []
    },
    {
      "cell_type": "code",
      "metadata": {
        "id": "Sn_j_l1w_Gtc",
        "colab_type": "code",
        "colab": {}
      },
      "source": [
        "import librosa\n",
        "import librosa.display\n",
        "import os, glob, pickle\n",
        "import numpy as np\n",
        "import pathlib\n",
        "import matplotlib.pyplot as plt\n",
        "from sklearn.model_selection import train_test_split\n",
        "from sklearn.neural_network import MLPClassifier\n",
        "from sklearn.metrics import accuracy_score\n",
        "from sklearn.metrics import confusion_matrix"
      ],
      "execution_count": 0,
      "outputs": []
    },
    {
      "cell_type": "code",
      "metadata": {
        "id": "_gyjH_iGef3V",
        "colab_type": "code",
        "colab": {}
      },
      "source": [
        "from sklearn.neural_network import MLPClassifier\n",
        "from sklearn.neighbors import KNeighborsClassifier\n",
        "from sklearn.svm import SVC\n",
        "from sklearn.svm import LinearSVC\n",
        "from sklearn.gaussian_process import GaussianProcessClassifier\n",
        "from sklearn.gaussian_process.kernels import RBF\n",
        "from sklearn.tree import DecisionTreeClassifier\n",
        "from sklearn.ensemble import RandomForestClassifier, AdaBoostClassifier\n",
        "from sklearn.naive_bayes import GaussianNB, MultinomialNB\n",
        "from sklearn.discriminant_analysis import QuadraticDiscriminantAnalysis\n",
        "from sklearn.linear_model import LogisticRegression\n",
        "\n",
        "from sklearn.preprocessing import Normalizer\n",
        "from sklearn.preprocessing import StandardScaler\n",
        "\n",
        "from sklearn.feature_selection import SelectKBest, GenericUnivariateSelect, SelectFromModel, VarianceThreshold\n",
        "from sklearn.feature_selection import chi2, f_classif, mutual_info_classif\n",
        "from sklearn.ensemble import BaggingClassifier, VotingClassifier\n",
        "from sklearn.feature_extraction.text import TfidfTransformer\n",
        "from sklearn.metrics import f1_score,precision_score,recall_score,accuracy_score\n",
        "from sklearn.svm import LinearSVC\n",
        "from sklearn.multiclass import OneVsOneClassifier\n",
        "from sklearn.multiclass import OneVsRestClassifier\n",
        "from sklearn.feature_extraction.text import CountVectorizer\n",
        "from sklearn import preprocessing\n",
        "from sklearn.decomposition import PCA\n",
        "from sklearn.preprocessing import MinMaxScaler\n",
        "from sklearn.metrics import precision_recall_fscore_support"
      ],
      "execution_count": 0,
      "outputs": []
    },
    {
      "cell_type": "code",
      "metadata": {
        "id": "QfD-_xx_GiE-",
        "colab_type": "code",
        "colab": {}
      },
      "source": [
        "from fastai.vision import *\n",
        "import torch\n",
        "import random\n",
        "from scipy.io import wavfile\n",
        "from sklearn.model_selection import train_test_split\n",
        "\n",
        "torch.backends.cudnn.benchmark = False"
      ],
      "execution_count": 0,
      "outputs": []
    },
    {
      "cell_type": "code",
      "metadata": {
        "id": "gFd-yGh2COJd",
        "colab_type": "code",
        "outputId": "2a9dfa39-d144-439f-a6a3-b6ccc395924a",
        "colab": {
          "base_uri": "https://localhost:8080/",
          "height": 34
        }
      },
      "source": [
        "! ls meld/train/"
      ],
      "execution_count": 10,
      "outputs": [
        {
          "output_type": "stream",
          "text": [
            "disgust  fear  happy  neutral  sad\n"
          ],
          "name": "stdout"
        }
      ]
    },
    {
      "cell_type": "code",
      "metadata": {
        "id": "rrJis3eswQOj",
        "colab_type": "code",
        "colab": {}
      },
      "source": [
        "d = {'disgust':2, 'fear':4, 'happy':1, 'neutral':0, 'sad':3}"
      ],
      "execution_count": 0,
      "outputs": []
    },
    {
      "cell_type": "code",
      "metadata": {
        "id": "9J98v-dECIPD",
        "colab_type": "code",
        "colab": {}
      },
      "source": [
        "soundpath1 = \"meld/train/disgust/MEL_dia220_utt0_negative_DIS.wav\"\n",
        "soundpath2 = \"meld/train/fear/MEL_dia512_utt13_negative_FEA.wav\"\n",
        "soundpath3 = \"meld/train/happy/MEL_dia548_utt2_positive_HAP.wav\"\n",
        "soundpath4 = \"meld/train/neutral/MEL_dia504_utt5_neutral_NEU.wav\"\n",
        "soundpath5 = \"meld/train/sad/MEL_dia449_utt3_negative_SAD.wav\""
      ],
      "execution_count": 0,
      "outputs": []
    },
    {
      "cell_type": "code",
      "metadata": {
        "id": "GsF670GhA9r0",
        "colab_type": "code",
        "colab": {}
      },
      "source": [
        "def sound2features(filename):\n",
        "    sr, y = wavfile.read(filename)\n",
        "    y = y.astype('float32')\n",
        "    y = np.mean(y,axis=1)/32767\n",
        "    #y, sr = librosa.load(filename, sr = None)\n",
        "    #S = np.abs(librosa.stft(y))\n",
        "    chroma = librosa.feature.chroma_stft(y=y, sr=sr)\n",
        "    sdb = librosa.feature.melspectrogram(y=y, sr=sr)\n",
        "    mfcc = librosa.feature.mfcc(y=y, sr=sr)\n",
        "    #rms = librosa.feature.rms(y=y)\n",
        "    #contrast = librosa.feature.spectral_contrast(S=S, sr=sr)\n",
        "    #flatness = librosa.feature.spectral_flatness(y=y)\n",
        "    #print(chroma.shape, sdb.shape, mfcc.shape, rms.shape, flatness.shape)\n",
        "    res = np.concatenate([chroma,sdb,mfcc], axis = 0)\n",
        "    res = np.mean(res, axis=1)\n",
        "    return res\n",
        "    #return np.hstack((np.mean(chroma, axis=1), np.mean(sdb, axis=1), np.mean(mfcc, axis=1)))\n",
        "    #return np.hstack((np.mean(chroma, axis=1), np.mean(sdb, axis=1), np.mean(mfcc, axis=1), np.mean(rms, axis=1), np.mean(flatness, axis=1)))\n",
        "    #plt.figure(figsize=(10, 4))\n",
        "    #librosa.display.specshow(flatness, y_axis='chroma', x_axis='time')\n",
        "    #plt.colorbar()\n",
        "    #plt.title('Chromagram')\n",
        "    #plt.tight_layout()\n",
        "    #plt.show()"
      ],
      "execution_count": 0,
      "outputs": []
    },
    {
      "cell_type": "code",
      "metadata": {
        "id": "n0xx4TW4Cigk",
        "colab_type": "code",
        "outputId": "23c620e3-fe1d-4bd8-88e0-4c76dca7829e",
        "colab": {
          "base_uri": "https://localhost:8080/",
          "height": 34
        }
      },
      "source": [
        "sound2features(soundpath1)"
      ],
      "execution_count": 0,
      "outputs": [
        {
          "output_type": "execute_result",
          "data": {
            "text/plain": [
              "array([ 0.411493,  0.371639,  0.356632,  0.360351, ..., -7.213199, -3.142629, -1.197446, -2.106169])"
            ]
          },
          "metadata": {
            "tags": []
          },
          "execution_count": 19
        }
      ]
    },
    {
      "cell_type": "code",
      "metadata": {
        "id": "fwnWDyYsGVq5",
        "colab_type": "code",
        "outputId": "0d3720bb-a354-448b-d780-cd956b33cd07",
        "colab": {
          "base_uri": "https://localhost:8080/",
          "height": 34
        }
      },
      "source": [
        "sound2features(soundpath2)"
      ],
      "execution_count": 0,
      "outputs": [
        {
          "output_type": "execute_result",
          "data": {
            "text/plain": [
              "array([ 0.303381,  0.307455,  0.320904,  0.380943, ..., -0.18579 , -2.148121,  2.717266,  8.083936])"
            ]
          },
          "metadata": {
            "tags": []
          },
          "execution_count": 20
        }
      ]
    },
    {
      "cell_type": "code",
      "metadata": {
        "id": "fcy4aWdYGWMu",
        "colab_type": "code",
        "outputId": "06692e81-dd58-4276-c70a-17fd8b61f08b",
        "colab": {
          "base_uri": "https://localhost:8080/",
          "height": 34
        }
      },
      "source": [
        "sound2features(soundpath3)"
      ],
      "execution_count": 0,
      "outputs": [
        {
          "output_type": "execute_result",
          "data": {
            "text/plain": [
              "array([ 0.401699,  0.433836,  0.467144,  0.339173, ...,  2.101832,  3.169545, -7.477316, -0.215814])"
            ]
          },
          "metadata": {
            "tags": []
          },
          "execution_count": 21
        }
      ]
    },
    {
      "cell_type": "code",
      "metadata": {
        "id": "zjEPE8nsGWf9",
        "colab_type": "code",
        "outputId": "1668d28c-59d4-4e61-c77c-c872d9586a2b",
        "colab": {
          "base_uri": "https://localhost:8080/",
          "height": 34
        }
      },
      "source": [
        "sound2features(soundpath4)"
      ],
      "execution_count": 0,
      "outputs": [
        {
          "output_type": "execute_result",
          "data": {
            "text/plain": [
              "array([ 0.224056,  0.257642,  0.409112,  0.459822, ..., -1.845401, -4.831304, -5.409285,  1.255991])"
            ]
          },
          "metadata": {
            "tags": []
          },
          "execution_count": 22
        }
      ]
    },
    {
      "cell_type": "code",
      "metadata": {
        "id": "TA72UMo0Ck93",
        "colab_type": "code",
        "outputId": "5812b365-6595-4ac6-bb57-598a307ccd61",
        "colab": {
          "base_uri": "https://localhost:8080/",
          "height": 34
        }
      },
      "source": [
        "sound2features(soundpath5)"
      ],
      "execution_count": 0,
      "outputs": [
        {
          "output_type": "execute_result",
          "data": {
            "text/plain": [
              "array([ 0.278147,  0.399796,  0.353631,  0.262825, ..., -2.879166, -2.626762, -8.842058, -1.172978])"
            ]
          },
          "metadata": {
            "tags": []
          },
          "execution_count": 23
        }
      ]
    },
    {
      "cell_type": "code",
      "metadata": {
        "id": "rU-5nbsrMkA8",
        "colab_type": "code",
        "outputId": "91362975-9cce-4521-ce1e-2f7fcc7e4887",
        "colab": {
          "base_uri": "https://localhost:8080/",
          "height": 51
        }
      },
      "source": [
        "#from pathlib import Path\n",
        "path = Path('meld/train/')\n",
        "lengths = []\n",
        "print(path)\n",
        "for p in path.ls():\n",
        "    tag = str(p).split(\"/\")[-1]\n",
        "    print(tag, end =\" \")\n",
        "    for item in p.ls():\n",
        "        fname = str(item).split(\"/\")[-1]\n",
        "        sr, y = wavfile.read(str(item))\n",
        "        y = y.astype('float32')\n",
        "        y = np.mean(y,axis=1)/32767\n",
        "        s = librosa.feature.spectral_centroid(\n",
        "                y=y, sr=sr, hop_length=512\n",
        "            )\n",
        "        lengths.append(len(s[0]))"
      ],
      "execution_count": 0,
      "outputs": [
        {
          "output_type": "stream",
          "text": [
            "meld/train\n",
            "neutral happy disgust sad fear "
          ],
          "name": "stdout"
        }
      ]
    },
    {
      "cell_type": "code",
      "metadata": {
        "id": "JoPR7_5tb_p7",
        "colab_type": "code",
        "outputId": "01f6fdf3-db7b-4f8c-d898-05d321445513",
        "colab": {
          "base_uri": "https://localhost:8080/",
          "height": 51
        }
      },
      "source": [
        "#from pathlib import Path\n",
        "path = Path('meld/val/')\n",
        "print(path)\n",
        "for p in path.ls():\n",
        "    tag = str(p).split(\"/\")[-1]\n",
        "    print(tag, end =\" \")\n",
        "    for item in p.ls():\n",
        "        fname = str(item).split(\"/\")[-1]\n",
        "        sr, y = wavfile.read(str(item))\n",
        "        y = y.astype('float32')\n",
        "        y = np.mean(y,axis=1)/32767\n",
        "        s = librosa.feature.spectral_centroid(\n",
        "                y=y, sr=sr, hop_length=512\n",
        "            )\n",
        "        lengths.append(len(s[0]))"
      ],
      "execution_count": 0,
      "outputs": [
        {
          "output_type": "stream",
          "text": [
            "meld/val\n",
            "neutral happy disgust sad fear "
          ],
          "name": "stdout"
        }
      ]
    },
    {
      "cell_type": "code",
      "metadata": {
        "id": "SLAZ0SO5cDty",
        "colab_type": "code",
        "outputId": "8c9393dd-28e6-4126-e8bb-ad4e07ad1a2a",
        "colab": {
          "base_uri": "https://localhost:8080/",
          "height": 34
        }
      },
      "source": [
        "min(lengths), max(lengths), sum(lengths)/len(lengths)"
      ],
      "execution_count": 0,
      "outputs": [
        {
          "output_type": "execute_result",
          "data": {
            "text/plain": [
              "(3, 9531, 101.88013196480938)"
            ]
          },
          "metadata": {
            "tags": []
          },
          "execution_count": 90
        }
      ]
    },
    {
      "cell_type": "code",
      "metadata": {
        "id": "YwaK3VTTDWO3",
        "colab_type": "code",
        "colab": {}
      },
      "source": [
        "def folder2features(folder):\n",
        "    x = []\n",
        "    y = []\n",
        "    for p in folder.ls():\n",
        "        tag = str(p).split(\"/\")[-1]\n",
        "        print(tag, end = \" \")\n",
        "        for soundfile in p.ls():\n",
        "            x.append(sound2features(str(soundfile)))\n",
        "            y.append(d[tag])\n",
        "    x = np.array(x)\n",
        "    y = np.array(y)\n",
        "    return x, y"
      ],
      "execution_count": 0,
      "outputs": []
    },
    {
      "cell_type": "code",
      "metadata": {
        "id": "SmJff0gHOxdN",
        "colab_type": "code",
        "outputId": "49eb184e-0c93-40a6-979f-7c0a7874b805",
        "colab": {
          "base_uri": "https://localhost:8080/",
          "height": 34
        }
      },
      "source": [
        "x_train, y_train = folder2features(Path('meld/train/'))"
      ],
      "execution_count": 0,
      "outputs": [
        {
          "output_type": "stream",
          "text": [
            "neutral happy disgust sad fear "
          ],
          "name": "stdout"
        }
      ]
    },
    {
      "cell_type": "code",
      "metadata": {
        "id": "i2elLzvlRizq",
        "colab_type": "code",
        "outputId": "dc34ebaa-59a6-4564-8535-21e35eba2a81",
        "colab": {
          "base_uri": "https://localhost:8080/",
          "height": 34
        }
      },
      "source": [
        "x_val, y_val = folder2features(Path('meld/val/'))"
      ],
      "execution_count": 0,
      "outputs": [
        {
          "output_type": "stream",
          "text": [
            "neutral happy disgust sad fear "
          ],
          "name": "stdout"
        }
      ]
    },
    {
      "cell_type": "code",
      "metadata": {
        "id": "Jrdkynxmfi5I",
        "colab_type": "code",
        "colab": {}
      },
      "source": [
        "scaler = MinMaxScaler()\n",
        "x_train = scaler.fit_transform(x_train)\n",
        "x_val = scaler.transform(x_val)"
      ],
      "execution_count": 0,
      "outputs": []
    },
    {
      "cell_type": "code",
      "metadata": {
        "id": "OBW2gfrudb15",
        "colab_type": "code",
        "colab": {}
      },
      "source": [
        "#with open('xtrain.pkl','wb') as f: pickle.dump(x_train, f)\n",
        "#with open('ytrain.pkl','wb') as f: pickle.dump(y_train, f)\n",
        "#with open('xval.pkl','wb') as f: pickle.dump(x_val, f)\n",
        "#with open('yval.pkl','wb') as f: pickle.dump(y_val, f)"
      ],
      "execution_count": 0,
      "outputs": []
    },
    {
      "cell_type": "code",
      "metadata": {
        "id": "jMRXnfmbd72J",
        "colab_type": "code",
        "colab": {}
      },
      "source": [
        "with open('xtrain.pkl','rb') as f: x_train = pickle.load(f)\n",
        "with open('ytrain.pkl','rb') as f: y_train = pickle.load(f)\n",
        "with open('xval.pkl','rb') as f: x_val = pickle.load(f)\n",
        "with open('yval.pkl','rb') as f: y_val = pickle.load(f)"
      ],
      "execution_count": 0,
      "outputs": []
    },
    {
      "cell_type": "code",
      "metadata": {
        "id": "DO_uaYG5f9vW",
        "colab_type": "code",
        "colab": {}
      },
      "source": [
        "ct = {0:0, 1:0, 2:0, 3:0, 4:0}"
      ],
      "execution_count": 0,
      "outputs": []
    },
    {
      "cell_type": "code",
      "metadata": {
        "id": "wKDU-Tdk5M_n",
        "colab_type": "code",
        "colab": {}
      },
      "source": [
        "for i in y_train:\n",
        "    ct[i]+=1"
      ],
      "execution_count": 0,
      "outputs": []
    },
    {
      "cell_type": "code",
      "metadata": {
        "id": "NVR08fPK_lj5",
        "colab_type": "code",
        "outputId": "f71f2f86-2e88-461f-d765-ee404a913de7",
        "colab": {
          "base_uri": "https://localhost:8080/",
          "height": 34
        }
      },
      "source": [
        "ct"
      ],
      "execution_count": 0,
      "outputs": [
        {
          "output_type": "execute_result",
          "data": {
            "text/plain": [
              "{0: 4592, 1: 1609, 2: 232, 3: 705, 4: 216}"
            ]
          },
          "metadata": {
            "tags": []
          },
          "execution_count": 296
        }
      ]
    },
    {
      "cell_type": "code",
      "metadata": {
        "id": "UAAHI84U_qY7",
        "colab_type": "code",
        "outputId": "acddbf92-2096-4f13-94d8-0628f53005a0",
        "colab": {
          "base_uri": "https://localhost:8080/",
          "height": 34
        }
      },
      "source": [
        "print(4592, 4592+1609, 4592+1609+232, 4592+1609+232+705, 4592+1609+232+705+216)"
      ],
      "execution_count": 0,
      "outputs": [
        {
          "output_type": "stream",
          "text": [
            "4592 6201 6433 7138 7354\n"
          ],
          "name": "stdout"
        }
      ]
    },
    {
      "cell_type": "code",
      "metadata": {
        "id": "B7vdf0_EnAOr",
        "colab_type": "code",
        "colab": {}
      },
      "source": [
        "oversample = [3, 18, 6, 18] "
      ],
      "execution_count": 0,
      "outputs": []
    },
    {
      "cell_type": "code",
      "metadata": {
        "colab_type": "code",
        "id": "B3NCbAeBHk6V",
        "colab": {}
      },
      "source": [
        "x_trainnew = []\n",
        "x_trainnew.extend(x_train[:4592])\n",
        "for i in range(oversample[0]):\n",
        "    x_trainnew.extend(x_train[4592:6201])\n",
        "for i in range(oversample[1]):\n",
        "    x_trainnew.extend(x_train[6201:6433])\n",
        "for i in range(oversample[2]):\n",
        "    x_trainnew.extend(x_train[6433:7138])\n",
        "for i in range(oversample[3]):\n",
        "    x_trainnew.extend(x_train[7138:])\n",
        "x_trainnew = np.array(x_trainnew)"
      ],
      "execution_count": 0,
      "outputs": []
    },
    {
      "cell_type": "code",
      "metadata": {
        "colab_type": "code",
        "id": "iCLZqt8JHk64",
        "colab": {}
      },
      "source": [
        "y_trainnew = []\n",
        "y_trainnew.extend(y_train[:4592])\n",
        "for i in range(oversample[0]):\n",
        "    y_trainnew.extend(y_train[4592:6201])\n",
        "for i in range(oversample[1]):\n",
        "    y_trainnew.extend(y_train[6201:6433])\n",
        "for i in range(oversample[2]):\n",
        "    y_trainnew.extend(y_train[6433:7138])\n",
        "for i in range(oversample[3]):\n",
        "    y_trainnew.extend(y_train[7138:])\n",
        "y_trainnew = np.array(y_trainnew)"
      ],
      "execution_count": 0,
      "outputs": []
    },
    {
      "cell_type": "code",
      "metadata": {
        "id": "fA1zh9Hh9fRK",
        "colab_type": "code",
        "colab": {}
      },
      "source": [
        "x_train, x_test, y_train, y_test = train_test_split(x_train, y_train, test_size=0.001, random_state=42)\n",
        "x_trainnew, x_testnew, y_trainnew, y_testnew = train_test_split(x_trainnew, y_trainnew, test_size=0.001, random_state=42)"
      ],
      "execution_count": 0,
      "outputs": []
    },
    {
      "cell_type": "code",
      "metadata": {
        "id": "7ggjobC8gR5j",
        "colab_type": "code",
        "colab": {}
      },
      "source": [
        "def func(x):\n",
        "    return np.mean(x, 2)"
      ],
      "execution_count": 0,
      "outputs": []
    },
    {
      "cell_type": "code",
      "metadata": {
        "id": "arR7IwHDQPgh",
        "colab_type": "code",
        "colab": {}
      },
      "source": [
        "from sklearn.multiclass import OneVsRestClassifier, OneVsOneClassifier"
      ],
      "execution_count": 0,
      "outputs": []
    },
    {
      "cell_type": "code",
      "metadata": {
        "id": "XPktfjjWO-kK",
        "colab_type": "code",
        "outputId": "fdf596d8-4e2f-4c6f-b963-aeb5c43aadf2",
        "colab": {
          "base_uri": "https://localhost:8080/",
          "height": 428
        }
      },
      "source": [
        "clf = MLPClassifier(activation='relu', alpha=0.1, batch_size='auto', beta_1=0.9,\n",
        "              beta_2=0.999, early_stopping=False, epsilon=1e-06,\n",
        "              hidden_layer_sizes=(100,), learning_rate='constant',\n",
        "              learning_rate_init=0.01, max_iter=1000, momentum=0.9,\n",
        "              n_iter_no_change=10, nesterovs_momentum=True, power_t=0.5,\n",
        "              random_state=None, shuffle=True, solver='adam', tol=0.00001,\n",
        "              validation_fraction=0.1, verbose=False, warm_start=True)\n",
        "clf = OneVsOneClassifier(SVC())\n",
        "clf.fit(func(x_trainnew), y_trainnew)\n",
        "y_pred=clf.predict(func(x_train))\n",
        "print(\"Train accuracy    :\",accuracy_score(y_true=y_train, y_pred=y_pred))\n",
        "y_pred=clf.predict(func(x_trainnew))\n",
        "print(\"Trainnew accuracy :\",accuracy_score(y_true=y_trainnew, y_pred=y_pred))\n",
        "y_pred=clf.predict(func(x_val))\n",
        "print(\"Val accuracy      :\",accuracy_score(y_true=y_val, y_pred=y_pred))"
      ],
      "execution_count": 524,
      "outputs": [
        {
          "output_type": "stream",
          "text": [
            "/usr/local/lib/python3.6/dist-packages/sklearn/svm/base.py:193: FutureWarning: The default value of gamma will change from 'auto' to 'scale' in version 0.22 to account better for unscaled features. Set gamma explicitly to 'auto' or 'scale' to avoid this warning.\n",
            "  \"avoid this warning.\", FutureWarning)\n",
            "/usr/local/lib/python3.6/dist-packages/sklearn/svm/base.py:193: FutureWarning: The default value of gamma will change from 'auto' to 'scale' in version 0.22 to account better for unscaled features. Set gamma explicitly to 'auto' or 'scale' to avoid this warning.\n",
            "  \"avoid this warning.\", FutureWarning)\n",
            "/usr/local/lib/python3.6/dist-packages/sklearn/svm/base.py:193: FutureWarning: The default value of gamma will change from 'auto' to 'scale' in version 0.22 to account better for unscaled features. Set gamma explicitly to 'auto' or 'scale' to avoid this warning.\n",
            "  \"avoid this warning.\", FutureWarning)\n",
            "/usr/local/lib/python3.6/dist-packages/sklearn/svm/base.py:193: FutureWarning: The default value of gamma will change from 'auto' to 'scale' in version 0.22 to account better for unscaled features. Set gamma explicitly to 'auto' or 'scale' to avoid this warning.\n",
            "  \"avoid this warning.\", FutureWarning)\n",
            "/usr/local/lib/python3.6/dist-packages/sklearn/svm/base.py:193: FutureWarning: The default value of gamma will change from 'auto' to 'scale' in version 0.22 to account better for unscaled features. Set gamma explicitly to 'auto' or 'scale' to avoid this warning.\n",
            "  \"avoid this warning.\", FutureWarning)\n",
            "/usr/local/lib/python3.6/dist-packages/sklearn/svm/base.py:193: FutureWarning: The default value of gamma will change from 'auto' to 'scale' in version 0.22 to account better for unscaled features. Set gamma explicitly to 'auto' or 'scale' to avoid this warning.\n",
            "  \"avoid this warning.\", FutureWarning)\n",
            "/usr/local/lib/python3.6/dist-packages/sklearn/svm/base.py:193: FutureWarning: The default value of gamma will change from 'auto' to 'scale' in version 0.22 to account better for unscaled features. Set gamma explicitly to 'auto' or 'scale' to avoid this warning.\n",
            "  \"avoid this warning.\", FutureWarning)\n",
            "/usr/local/lib/python3.6/dist-packages/sklearn/svm/base.py:193: FutureWarning: The default value of gamma will change from 'auto' to 'scale' in version 0.22 to account better for unscaled features. Set gamma explicitly to 'auto' or 'scale' to avoid this warning.\n",
            "  \"avoid this warning.\", FutureWarning)\n",
            "/usr/local/lib/python3.6/dist-packages/sklearn/svm/base.py:193: FutureWarning: The default value of gamma will change from 'auto' to 'scale' in version 0.22 to account better for unscaled features. Set gamma explicitly to 'auto' or 'scale' to avoid this warning.\n",
            "  \"avoid this warning.\", FutureWarning)\n",
            "/usr/local/lib/python3.6/dist-packages/sklearn/svm/base.py:193: FutureWarning: The default value of gamma will change from 'auto' to 'scale' in version 0.22 to account better for unscaled features. Set gamma explicitly to 'auto' or 'scale' to avoid this warning.\n",
            "  \"avoid this warning.\", FutureWarning)\n"
          ],
          "name": "stderr"
        },
        {
          "output_type": "stream",
          "text": [
            "Train accuracy    : 0.9978219439150559\n",
            "Trainnew accuracy : 0.998415583205182\n",
            "Val accuracy      : 0.6228915662650603\n"
          ],
          "name": "stdout"
        }
      ]
    },
    {
      "cell_type": "code",
      "metadata": {
        "id": "W1ayimfHNtud",
        "colab_type": "code",
        "outputId": "9314b4b8-d819-413b-998d-ea6bee92f1a6",
        "colab": {
          "base_uri": "https://localhost:8080/",
          "height": 102
        }
      },
      "source": [
        "confusion_matrix(y_val, y_pred)"
      ],
      "execution_count": 525,
      "outputs": [
        {
          "output_type": "execute_result",
          "data": {
            "text/plain": [
              "array([[517,   0,   0,   0,   0],\n",
              "       [181,   0,   0,   0,   0],\n",
              "       [ 28,   0,   0,   0,   0],\n",
              "       [ 79,   0,   0,   0,   0],\n",
              "       [ 25,   0,   0,   0,   0]])"
            ]
          },
          "metadata": {
            "tags": []
          },
          "execution_count": 525
        }
      ]
    },
    {
      "cell_type": "code",
      "metadata": {
        "id": "9OiVRTtjZ8mJ",
        "colab_type": "code",
        "colab": {}
      },
      "source": [
        "from sklearn.decomposition import PCA"
      ],
      "execution_count": 0,
      "outputs": []
    },
    {
      "cell_type": "code",
      "metadata": {
        "id": "Y3Ueh17bSjJo",
        "colab_type": "code",
        "colab": {}
      },
      "source": [
        "pca = PCA(n_components=10)\n",
        "xtpca = pca.fit_transform(func(x_train))\n",
        "xtnewpca = pca.transform(func(x_trainnew))\n",
        "xvpca = pca.transform(func(x_val))"
      ],
      "execution_count": 0,
      "outputs": []
    },
    {
      "cell_type": "code",
      "metadata": {
        "id": "1qIyw65RTEDE",
        "colab_type": "code",
        "colab": {
          "base_uri": "https://localhost:8080/",
          "height": 68
        },
        "outputId": "46b5d0b2-5b40-43cd-8866-74a82b007b04"
      },
      "source": [
        "clf = OneVsRestClassifier(KNeighborsClassifier(n_neighbors=3))\n",
        "clf.fit(xtnewpca, y_trainnew)\n",
        "y_pred=clf.predict(xtpca)\n",
        "print(\"Train accuracy    :\",accuracy_score(y_true=y_train, y_pred=y_pred))\n",
        "y_pred=clf.predict(xtnewpca)\n",
        "print(\"Trainnew accuracy :\",accuracy_score(y_true=y_trainnew, y_pred=y_pred))\n",
        "y_pred=clf.predict(xvpca)\n",
        "print(\"Val accuracy      :\",accuracy_score(y_true=y_val, y_pred=y_pred))"
      ],
      "execution_count": 673,
      "outputs": [
        {
          "output_type": "stream",
          "text": [
            "Train accuracy    : 0.7723931391233324\n",
            "Trainnew accuracy : 0.921431567174612\n",
            "Val accuracy      : 0.3385542168674699\n"
          ],
          "name": "stdout"
        }
      ]
    },
    {
      "cell_type": "code",
      "metadata": {
        "id": "prZ3vjXwTJFs",
        "colab_type": "code",
        "colab": {
          "base_uri": "https://localhost:8080/",
          "height": 102
        },
        "outputId": "72540461-3e3a-45fe-c86d-487fb4b20208"
      },
      "source": [
        "confusion_matrix(y_val, y_pred)"
      ],
      "execution_count": 674,
      "outputs": [
        {
          "output_type": "execute_result",
          "data": {
            "text/plain": [
              "array([[198, 178,  23,  85,  33],\n",
              "       [ 67,  66,  11,  28,   9],\n",
              "       [ 12,   9,   1,   6,   0],\n",
              "       [ 35,  26,   2,  13,   3],\n",
              "       [ 12,   7,   1,   2,   3]])"
            ]
          },
          "metadata": {
            "tags": []
          },
          "execution_count": 674
        }
      ]
    },
    {
      "cell_type": "code",
      "metadata": {
        "id": "yDe_yr2wWQgP",
        "colab_type": "code",
        "colab": {}
      },
      "source": [
        "from sklearn.feature_selection import SelectKBest, chi2"
      ],
      "execution_count": 0,
      "outputs": []
    },
    {
      "cell_type": "code",
      "metadata": {
        "colab_type": "code",
        "id": "DT-ru3ZvWWPH",
        "colab": {}
      },
      "source": [
        "pca = SelectKBest(chi2, k=3)\n",
        "xtnewpca = pca.fit_transform(func(x_trainnew), y_trainnew)\n",
        "xtpca = pca.transform(func(x_train))\n",
        "xvpca = pca.transform(func(x_val))"
      ],
      "execution_count": 0,
      "outputs": []
    },
    {
      "cell_type": "code",
      "metadata": {
        "colab_type": "code",
        "outputId": "9106b714-ac4b-43d6-fb3f-7fc4dd4dcaf4",
        "id": "iMZWpQRGWWPM",
        "colab": {
          "base_uri": "https://localhost:8080/",
          "height": 51
        }
      },
      "source": [
        "clf = OneVsRestClassifier(KNeighborsClassifier(n_neighbors=3))\n",
        "clf.fit(xtnewpca, y_trainnew)\n",
        "y_pred=clf.predict(xtpca)\n",
        "print(\"Train accuracy    :\",accuracy_score(y_true=y_train, y_pred=y_pred))\n",
        "#y_pred=clf.predict(xtnewpca)\n",
        "#print(\"Trainnew accuracy :\",accuracy_score(y_true=y_trainnew, y_pred=y_pred))\n",
        "y_pred=clf.predict(xvpca)\n",
        "print(\"Val accuracy      :\",accuracy_score(y_true=y_val, y_pred=y_pred))"
      ],
      "execution_count": 684,
      "outputs": [
        {
          "output_type": "stream",
          "text": [
            "Train accuracy    : 0.7736182956711135\n",
            "Val accuracy      : 0.336144578313253\n"
          ],
          "name": "stdout"
        }
      ]
    },
    {
      "cell_type": "code",
      "metadata": {
        "colab_type": "code",
        "outputId": "2d7e0871-e5d2-416e-8cd5-d431c266cd7b",
        "id": "r9498H1CWWPP",
        "colab": {
          "base_uri": "https://localhost:8080/",
          "height": 102
        }
      },
      "source": [
        "confusion_matrix(y_val, y_pred)"
      ],
      "execution_count": 685,
      "outputs": [
        {
          "output_type": "execute_result",
          "data": {
            "text/plain": [
              "array([[192, 186,  20,  95,  24],\n",
              "       [ 56,  78,   5,  29,  13],\n",
              "       [  7,  17,   1,   3,   0],\n",
              "       [ 34,  28,   7,   7,   3],\n",
              "       [ 10,   8,   1,   5,   1]])"
            ]
          },
          "metadata": {
            "tags": []
          },
          "execution_count": 685
        }
      ]
    },
    {
      "cell_type": "code",
      "metadata": {
        "id": "7VhlST9hIFYV",
        "colab_type": "code",
        "colab": {}
      },
      "source": [
        "x_traint = torch.from_numpy(x_train).float().cuda()\n",
        "y_traint = torch.from_numpy(y_train).long().cuda()\n",
        "x_trainnewt = torch.from_numpy(x_trainnew).float().cuda()\n",
        "y_trainnewt = torch.from_numpy(y_trainnew).long().cuda()\n",
        "x_valt = torch.from_numpy(x_val).float().cuda()\n",
        "y_valt = torch.from_numpy(y_val).long().cuda()"
      ],
      "execution_count": 0,
      "outputs": []
    },
    {
      "cell_type": "code",
      "metadata": {
        "id": "r6-I898sIFWU",
        "colab_type": "code",
        "outputId": "bb26c513-b1f4-46cb-fb3b-8ab4d5088e1f",
        "colab": {
          "base_uri": "https://localhost:8080/",
          "height": 34
        }
      },
      "source": [
        "print(x_traint.shape, y_traint.shape, x_trainnewt.shape, y_trainnewt.shape, x_valt.shape, y_valt.shape)"
      ],
      "execution_count": 566,
      "outputs": [
        {
          "output_type": "stream",
          "text": [
            "torch.Size([7346, 43, 94]) torch.Size([7346]) torch.Size([21459, 43, 94]) torch.Size([21459]) torch.Size([830, 43, 94]) torch.Size([830])\n"
          ],
          "name": "stdout"
        }
      ]
    },
    {
      "cell_type": "code",
      "metadata": {
        "id": "0cTnBgVaIFUe",
        "colab_type": "code",
        "colab": {}
      },
      "source": [
        "class mymodel(nn.Module):\n",
        "    def __init__(self, in_features, n_classes = 5):\n",
        "        super().__init__()\n",
        "        self.linear1 = nn.Linear(in_features,150)\n",
        "        self.linear2 = nn.Linear(150,100)\n",
        "        self.linear3 = nn.Linear(100,100)\n",
        "        self.linear4 = nn.Linear(100,100)\n",
        "        self.linear5 = nn.Linear(100, n_classes)\n",
        "        self.act = nn.LeakyReLU(0.1)\n",
        "        self.softmax = nn.Softmax(-1)\n",
        "    \n",
        "    def forward(self, x):\n",
        "        x = self.linear1(x)\n",
        "        x = self.act(x)\n",
        "        x = self.linear2(x)\n",
        "        x = self.act(x)\n",
        "        x = self.linear3(x)\n",
        "        x = self.act(x)\n",
        "        x = self.linear4(x)\n",
        "        x = self.act(x)\n",
        "        x = self.linear5(x)\n",
        "        #x = self.softmax(x)\n",
        "        #print(x.shape)\n",
        "        return x"
      ],
      "execution_count": 0,
      "outputs": []
    },
    {
      "cell_type": "code",
      "metadata": {
        "id": "U3Gk9WqOIFSo",
        "colab_type": "code",
        "colab": {}
      },
      "source": [
        "model = mymodel(x_traint.shape[1]).cuda()"
      ],
      "execution_count": 0,
      "outputs": []
    },
    {
      "cell_type": "code",
      "metadata": {
        "id": "piwI4W-IIFOO",
        "colab_type": "code",
        "colab": {}
      },
      "source": [
        "loss_function = nn.CrossEntropyLoss()\n",
        "#loss_function = LabelSmoothingCrossEntropy()\n",
        "optimizer = optim.Adam(model.parameters(), lr=0.001, betas=(0.9,0.99), eps=1e-6)\n",
        "#optimizer = optim.RMSprop(model.parameters(), lr=0.01, alpha=0.99, eps=1e-6)\n",
        "#optimizer = optim.SGD(model.parameters(), lr=0.1, momentum=0.9)"
      ],
      "execution_count": 0,
      "outputs": []
    },
    {
      "cell_type": "code",
      "metadata": {
        "id": "D9R3IFzuIFIz",
        "colab_type": "code",
        "colab": {}
      },
      "source": [
        "def get_batch(X,Y,start,end):\n",
        "    return X[start:end], Y[start:end]"
      ],
      "execution_count": 0,
      "outputs": []
    },
    {
      "cell_type": "code",
      "metadata": {
        "id": "VEl8XZV3LRio",
        "colab_type": "code",
        "colab": {}
      },
      "source": [
        "def train(epochs = 100, bs = 128, X = x_traint, Y = y_traint):\n",
        "    for epoch in range(epochs):\n",
        "        i=0\n",
        "        total_loss = 0.0\n",
        "        ct = 0\n",
        "        while i < len(X):\n",
        "            x,y = get_batch(X,Y,i,i+bs)\n",
        "            noise = torch.normal(0, 0.005, size=x.shape).cuda()\n",
        "            #print(noise)\n",
        "            i+=bs\n",
        "            ct+=1\n",
        "            #print(x.shape)\n",
        "            model.zero_grad()\n",
        "            preds = model(x+noise)\n",
        "            loss = loss_function(preds, y)\n",
        "            loss.backward()\n",
        "            optimizer.step()\n",
        "            total_loss += loss.item()\n",
        "        total_loss /= ct\n",
        "        \n",
        "        print('epoch',epoch+1,'  ','train loss', \"%.3f\" % total_loss)"
      ],
      "execution_count": 0,
      "outputs": []
    },
    {
      "cell_type": "code",
      "metadata": {
        "id": "5zkdbRiuLUUH",
        "colab_type": "code",
        "colab": {}
      },
      "source": [
        "train(200, X = x_trainnewt, Y = y_trainnewt)"
      ],
      "execution_count": 0,
      "outputs": []
    },
    {
      "cell_type": "code",
      "metadata": {
        "id": "uMLvExmtMuOT",
        "colab_type": "code",
        "outputId": "8549a006-308a-45e1-8aa3-a5ca11c40940",
        "colab": {
          "base_uri": "https://localhost:8080/",
          "height": 34
        }
      },
      "source": [
        "preds = model.eval()(x_traint)\n",
        "accuracy(preds, y_traint)"
      ],
      "execution_count": 0,
      "outputs": [
        {
          "output_type": "execute_result",
          "data": {
            "text/plain": [
              "tensor(0.9293, device='cuda:0')"
            ]
          },
          "metadata": {
            "tags": []
          },
          "execution_count": 395
        }
      ]
    },
    {
      "cell_type": "code",
      "metadata": {
        "id": "-S6ZQ5Vbld0L",
        "colab_type": "code",
        "outputId": "570197ca-937c-46ba-bcdd-e3b92e7496be",
        "colab": {
          "base_uri": "https://localhost:8080/",
          "height": 34
        }
      },
      "source": [
        "preds = model.eval()(x_trainnewt)\n",
        "accuracy(preds, y_trainnewt)"
      ],
      "execution_count": 0,
      "outputs": [
        {
          "output_type": "execute_result",
          "data": {
            "text/plain": [
              "tensor(0.9742, device='cuda:0')"
            ]
          },
          "metadata": {
            "tags": []
          },
          "execution_count": 396
        }
      ]
    },
    {
      "cell_type": "code",
      "metadata": {
        "id": "YGAPYc_SM0Ty",
        "colab_type": "code",
        "outputId": "9151e3d8-aa15-4c8c-c3b8-5fb18b28389b",
        "colab": {
          "base_uri": "https://localhost:8080/",
          "height": 34
        }
      },
      "source": [
        "preds = model.eval()(x_valt)\n",
        "accuracy(preds, y_valt)"
      ],
      "execution_count": 0,
      "outputs": [
        {
          "output_type": "execute_result",
          "data": {
            "text/plain": [
              "tensor(0.4133, device='cuda:0')"
            ]
          },
          "metadata": {
            "tags": []
          },
          "execution_count": 397
        }
      ]
    },
    {
      "cell_type": "code",
      "metadata": {
        "id": "x8ZNvoZRM56-",
        "colab_type": "code",
        "colab": {}
      },
      "source": [
        "pred = np.argmax(preds.cpu().detach().numpy(), 1)\n",
        "y = y_valt.cpu().numpy()"
      ],
      "execution_count": 0,
      "outputs": []
    },
    {
      "cell_type": "code",
      "metadata": {
        "id": "lUWgpJBKM77J",
        "colab_type": "code",
        "outputId": "dc3213ca-d0e5-42ec-b431-2d50e355bfa3",
        "colab": {
          "base_uri": "https://localhost:8080/",
          "height": 102
        }
      },
      "source": [
        "confusion_matrix(y, pred)"
      ],
      "execution_count": 0,
      "outputs": [
        {
          "output_type": "execute_result",
          "data": {
            "text/plain": [
              "array([[270, 182,  11,  35,  19],\n",
              "       [ 86,  65,   5,  13,  12],\n",
              "       [ 10,  14,   2,   2,   0],\n",
              "       [ 36,  34,   1,   4,   4],\n",
              "       [ 12,   9,   0,   2,   2]])"
            ]
          },
          "metadata": {
            "tags": []
          },
          "execution_count": 399
        }
      ]
    },
    {
      "cell_type": "code",
      "metadata": {
        "id": "m65JVSv8eyUL",
        "colab_type": "code",
        "outputId": "667d8df6-5efe-49ad-8fb9-70168a5fdd74",
        "colab": {
          "base_uri": "https://localhost:8080/",
          "height": 85
        }
      },
      "source": [
        "precision_recall_fscore_support(y, pred, labels = [0,1,2,3,4])"
      ],
      "execution_count": 0,
      "outputs": [
        {
          "output_type": "execute_result",
          "data": {
            "text/plain": [
              "(array([0.652174, 0.213816, 0.105263, 0.071429, 0.054054]),\n",
              " array([0.522244, 0.359116, 0.071429, 0.050633, 0.08    ]),\n",
              " array([0.580021, 0.268041, 0.085106, 0.059259, 0.064516]),\n",
              " array([517, 181,  28,  79,  25]))"
            ]
          },
          "metadata": {
            "tags": []
          },
          "execution_count": 400
        }
      ]
    },
    {
      "cell_type": "code",
      "metadata": {
        "id": "C7rRCBRCe4Ix",
        "colab_type": "code",
        "outputId": "c38aff8a-20a8-4841-9d03-137afc53371e",
        "colab": {
          "base_uri": "https://localhost:8080/",
          "height": 34
        }
      },
      "source": [
        "precision_recall_fscore_support(y, pred, average = 'weighted', labels = [0,1,2,3,4])"
      ],
      "execution_count": 0,
      "outputs": [
        {
          "output_type": "execute_result",
          "data": {
            "text/plain": [
              "(0.46483873235358586, 0.41325301204819276, 0.43019751046444543, None)"
            ]
          },
          "metadata": {
            "tags": []
          },
          "execution_count": 403
        }
      ]
    },
    {
      "cell_type": "code",
      "metadata": {
        "id": "_5xlKzZBIFFk",
        "colab_type": "code",
        "colab": {}
      },
      "source": [
        "############################################################################\n",
        "############################################################################\n",
        "############################################################################"
      ],
      "execution_count": 0,
      "outputs": []
    },
    {
      "cell_type": "code",
      "metadata": {
        "id": "GG1imt7TFRLt",
        "colab_type": "code",
        "colab": {}
      },
      "source": [
        "def sound2features(filename):\n",
        "    sr, y = wavfile.read(filename)\n",
        "    y = y.astype('float32')\n",
        "    y = np.mean(y,axis=1)/32767\n",
        "    #y, sr = librosa.load(filename, sr = None)\n",
        "    #S = np.abs(librosa.stft(y))\n",
        "    chroma = librosa.feature.chroma_stft(y=y, sr=sr)\n",
        "    sdb = librosa.feature.melspectrogram(y=y, sr=sr)\n",
        "    mfcc = librosa.feature.mfcc(y=y, sr=sr)\n",
        "    res = np.concatenate([chroma,sdb,mfcc], axis = 0)\n",
        "    res = torch.from_numpy(res).cuda().reshape(1,1,160,-1)\n",
        "    return res\n",
        "    #rms = librosa.feature.rms(y=y)\n",
        "    #contrast = librosa.feature.spectral_contrast(S=S, sr=sr)\n",
        "    #flatness = librosa.feature.spectral_flatness(y=y)\n",
        "    #print(chroma.shape, sdb.shape, mfcc.shape)#, rms.shape, flatness.shape)\n",
        "    #return np.hstack((np.mean(chroma, axis=1), np.mean(sdb, axis=1), np.mean(mfcc, axis=1)))\n",
        "    #return np.hstack((np.mean(chroma, axis=1), np.mean(sdb, axis=1), np.mean(mfcc, axis=1), np.mean(rms, axis=1), np.mean(flatness, axis=1)))\n",
        "    #plt.figure(figsize=(10, 4))\n",
        "    #librosa.display.specshow(flatness, y_axis='chroma', x_axis='time')\n",
        "    #plt.colorbar()\n",
        "    #plt.title('Chromagram')\n",
        "    #plt.tight_layout()\n",
        "    #plt.show()"
      ],
      "execution_count": 0,
      "outputs": []
    },
    {
      "cell_type": "code",
      "metadata": {
        "id": "iQ5CvqdrR_Xm",
        "colab_type": "code",
        "colab": {}
      },
      "source": [
        "def folder2features(folder):\n",
        "    x = []\n",
        "    y = []\n",
        "    for p in folder.ls():\n",
        "        tag = str(p).split(\"/\")[-1]\n",
        "        for soundfile in p.ls():\n",
        "            x.append(sound2features(str(soundfile)))\n",
        "            y.append(d[tag])\n",
        "    y = np.array(y)\n",
        "    return x, y"
      ],
      "execution_count": 0,
      "outputs": []
    },
    {
      "cell_type": "code",
      "metadata": {
        "id": "hlEV_16dQM8D",
        "colab_type": "code",
        "colab": {}
      },
      "source": [
        "xtrain, ytrain = folder2features(Path('meld/train'))"
      ],
      "execution_count": 0,
      "outputs": []
    },
    {
      "cell_type": "code",
      "metadata": {
        "id": "On46O9LEQRXK",
        "colab_type": "code",
        "colab": {}
      },
      "source": [
        "xval, yval = folder2features(Path('meld/val'))"
      ],
      "execution_count": 0,
      "outputs": []
    },
    {
      "cell_type": "code",
      "metadata": {
        "id": "H93lLljMW_Ja",
        "colab_type": "code",
        "colab": {}
      },
      "source": [
        "for i in range(len(xtrain)):\n",
        "    xtrain[i] = xtrain[i].reshape(1,1,160,-1).float().cuda()\n",
        "for i in range(len(xval)):\n",
        "    xval[i] = xval[i].reshape(1,1,160,-1).float().cuda()"
      ],
      "execution_count": 0,
      "outputs": []
    },
    {
      "cell_type": "code",
      "metadata": {
        "id": "JbUsbFp67a_h",
        "colab_type": "code",
        "colab": {}
      },
      "source": [
        "xtrainnew = []\n",
        "xtrainnew.extend(xtrain[:4592])\n",
        "for i in range(2):\n",
        "    xtrainnew.extend(xtrain[4592:6201])\n",
        "for i in range(7):\n",
        "    xtrainnew.extend(xtrain[6201:6433])\n",
        "for i in range(2):\n",
        "    xtrainnew.extend(xtrain[6433:7138])\n",
        "for i in range(7):\n",
        "    xtrainnew.extend(xtrain[7138:])"
      ],
      "execution_count": 0,
      "outputs": []
    },
    {
      "cell_type": "code",
      "metadata": {
        "id": "ATXTvUSc7bWd",
        "colab_type": "code",
        "colab": {}
      },
      "source": [
        "ytrainnew = []\n",
        "ytrainnew.extend(ytrain[:4592])\n",
        "for i in range(2):\n",
        "    ytrainnew.extend(ytrain[4592:6201])\n",
        "for i in range(7):\n",
        "    ytrainnew.extend(ytrain[6201:6433])\n",
        "for i in range(2):\n",
        "    ytrainnew.extend(ytrain[6433:7138])\n",
        "for i in range(7):\n",
        "    ytrainnew.extend(ytrain[7138:])"
      ],
      "execution_count": 0,
      "outputs": []
    },
    {
      "cell_type": "code",
      "metadata": {
        "id": "pTmQt3XIVR4s",
        "colab_type": "code",
        "colab": {}
      },
      "source": [
        "def conv2(ni,nf): return conv_layer(ni,nf,stride=2)"
      ],
      "execution_count": 0,
      "outputs": []
    },
    {
      "cell_type": "code",
      "metadata": {
        "id": "6D8b4UidSlCc",
        "colab_type": "code",
        "colab": {}
      },
      "source": [
        "model = nn.Sequential(\n",
        "    conv2(1, 32),\n",
        "    conv2(32, 64),\n",
        "    conv2(64, 128),\n",
        "    conv2(128, 256),\n",
        "    nn.AdaptiveMaxPool2d((1,5)),\n",
        "    Flatten(),\n",
        "    nn.Linear(1280,100),\n",
        "    nn.ReLU(inplace=True),\n",
        "    nn.Linear(100,5)\n",
        ").cuda()"
      ],
      "execution_count": 0,
      "outputs": []
    },
    {
      "cell_type": "code",
      "metadata": {
        "id": "xTudl1PhVOIS",
        "colab_type": "code",
        "colab": {}
      },
      "source": [
        "loss_function = nn.CrossEntropyLoss()\n",
        "#loss_function = LabelSmoothingCrossEntropy()\n",
        "optimizer = optim.Adam(model.parameters(), lr=0.001, betas=(0.9,0.99), eps=1e-6)\n",
        "#optimizer = optim.RMSprop(model.parameters(), lr=0.01, alpha=0.99, eps=1e-6)\n",
        "#optimizer = optim.SGD(model.parameters(), lr=0.001, momentum=0.9)"
      ],
      "execution_count": 0,
      "outputs": []
    },
    {
      "cell_type": "code",
      "metadata": {
        "id": "FITVsBDDVWEs",
        "colab_type": "code",
        "colab": {}
      },
      "source": [
        "def run_batch(X,Y,indexes,start,end):\n",
        "    model.zero_grad()\n",
        "    preds = None\n",
        "    loss = None\n",
        "    preds = torch.zeros((1,5)).cuda()\n",
        "    y = []\n",
        "    for i in indexes[start:end]:\n",
        "        pred = model(X[i])\n",
        "        preds = torch.cat((preds,pred), 0)\n",
        "        del pred\n",
        "        y.append(Y[i])\n",
        "\n",
        "    Y = torch.from_numpy(np.array(y)).cuda()\n",
        "    loss = loss_function(preds[1:], Y)\n",
        "    loss.backward()\n",
        "    optimizer.step()\n",
        "    return loss.item()"
      ],
      "execution_count": 0,
      "outputs": []
    },
    {
      "cell_type": "code",
      "metadata": {
        "id": "XE8xzjgZVfGM",
        "colab_type": "code",
        "colab": {}
      },
      "source": [
        "def train(epochs = 2, bs = 128):\n",
        "    for epoch in range(epochs):\n",
        "        indexes = random.sample(range(len(xtrain)), len(xtrain))\n",
        "        i=0\n",
        "        total_loss = 0.0\n",
        "        ct = 0\n",
        "        while i < len(xtrain):\n",
        "            total_loss = run_batch(xtrainnew,ytrainnew,indexes,i,i+bs)\n",
        "            i+=bs\n",
        "            ct+=1\n",
        "            #print(total_loss/bs)\n",
        "        total_loss /= ct\n",
        "        \n",
        "        print('epoch',epoch+1,'  ','train loss', \"%.3f\" % total_loss)"
      ],
      "execution_count": 0,
      "outputs": []
    },
    {
      "cell_type": "code",
      "metadata": {
        "id": "voSqLbP3Vhiu",
        "colab_type": "code",
        "outputId": "da7da151-21fd-4dfd-c358-c29832847600",
        "colab": {
          "base_uri": "https://localhost:8080/",
          "height": 187
        }
      },
      "source": [
        "train(10)  "
      ],
      "execution_count": 0,
      "outputs": [
        {
          "output_type": "stream",
          "text": [
            "epoch 1    train loss 0.011\n",
            "epoch 2    train loss 0.007\n",
            "epoch 3    train loss 0.007\n",
            "epoch 4    train loss 0.003\n",
            "epoch 5    train loss 0.001\n",
            "epoch 6    train loss 0.001\n",
            "epoch 7    train loss 0.001\n",
            "epoch 8    train loss 0.003\n",
            "epoch 9    train loss 0.001\n",
            "epoch 10    train loss 0.002\n"
          ],
          "name": "stdout"
        }
      ]
    },
    {
      "cell_type": "code",
      "metadata": {
        "id": "hCpyWXRygown",
        "colab_type": "code",
        "outputId": "24f32fee-163b-4e3c-fadc-c398588fa740",
        "colab": {
          "base_uri": "https://localhost:8080/",
          "height": 34
        }
      },
      "source": [
        "gc.collect()"
      ],
      "execution_count": 0,
      "outputs": [
        {
          "output_type": "execute_result",
          "data": {
            "text/plain": [
              "0"
            ]
          },
          "metadata": {
            "tags": []
          },
          "execution_count": 248
        }
      ]
    },
    {
      "cell_type": "code",
      "metadata": {
        "id": "2lMlVLW9-cqd",
        "colab_type": "code",
        "colab": {}
      },
      "source": [
        "preds = []\n",
        "for x in xtrain:\n",
        "    pred = np.argmax(model.eval()(x).cpu().detach().numpy(), 1)\n",
        "    preds.extend(pred)\n",
        "preds = np.array(preds)"
      ],
      "execution_count": 0,
      "outputs": []
    },
    {
      "cell_type": "code",
      "metadata": {
        "id": "71F9fI6afUwk",
        "colab_type": "code",
        "colab": {}
      },
      "source": [
        "Y = torch.from_numpy(ytrain)"
      ],
      "execution_count": 0,
      "outputs": []
    },
    {
      "cell_type": "code",
      "metadata": {
        "id": "XpBqIXz0dzmQ",
        "colab_type": "code",
        "outputId": "57cb6a00-5b7f-407c-cbf4-1760e7e3e9e0",
        "colab": {
          "base_uri": "https://localhost:8080/",
          "height": 34
        }
      },
      "source": [
        "accuracy_score(Y, preds)"
      ],
      "execution_count": 0,
      "outputs": [
        {
          "output_type": "execute_result",
          "data": {
            "text/plain": [
              "0.7768561327168888"
            ]
          },
          "metadata": {
            "tags": []
          },
          "execution_count": 251
        }
      ]
    },
    {
      "cell_type": "code",
      "metadata": {
        "id": "HgKelS0heOje",
        "colab_type": "code",
        "outputId": "ce4bd38b-21c1-4496-9ca3-1dc2e8fa927b",
        "colab": {
          "base_uri": "https://localhost:8080/",
          "height": 102
        }
      },
      "source": [
        "confusion_matrix(Y, preds)"
      ],
      "execution_count": 0,
      "outputs": [
        {
          "output_type": "execute_result",
          "data": {
            "text/plain": [
              "array([[4486,  106,    0,    0,    0],\n",
              "       [ 382, 1227,    0,    0,    0],\n",
              "       [ 196,   36,    0,    0,    0],\n",
              "       [ 615,   90,    0,    0,    0],\n",
              "       [ 176,   40,    0,    0,    0]])"
            ]
          },
          "metadata": {
            "tags": []
          },
          "execution_count": 252
        }
      ]
    },
    {
      "cell_type": "code",
      "metadata": {
        "colab_type": "code",
        "outputId": "560573ef-fa15-4a6e-9828-5d3f1883d1f6",
        "id": "kwaQSSlsDi0w",
        "colab": {
          "base_uri": "https://localhost:8080/",
          "height": 34
        }
      },
      "source": [
        "gc.collect()"
      ],
      "execution_count": 0,
      "outputs": [
        {
          "output_type": "execute_result",
          "data": {
            "text/plain": [
              "164"
            ]
          },
          "metadata": {
            "tags": []
          },
          "execution_count": 253
        }
      ]
    },
    {
      "cell_type": "code",
      "metadata": {
        "colab_type": "code",
        "id": "uLwr9UlxDizL",
        "colab": {}
      },
      "source": [
        "preds = []\n",
        "for x in xtrainnew:\n",
        "    pred = np.argmax(model.eval()(x).cpu().detach().numpy(), 1)\n",
        "    preds.extend(pred)\n",
        "preds = np.array(preds)"
      ],
      "execution_count": 0,
      "outputs": []
    },
    {
      "cell_type": "code",
      "metadata": {
        "colab_type": "code",
        "id": "BwfqeySiDizz",
        "colab": {}
      },
      "source": [
        "Y = ytrainnew"
      ],
      "execution_count": 0,
      "outputs": []
    },
    {
      "cell_type": "code",
      "metadata": {
        "colab_type": "code",
        "id": "b2ZLWX3EDi0F",
        "outputId": "ee7fa03c-2a3e-4de1-8461-39e677287e6b",
        "colab": {
          "base_uri": "https://localhost:8080/",
          "height": 34
        }
      },
      "source": [
        "accuracy_score(Y, preds)"
      ],
      "execution_count": 0,
      "outputs": [
        {
          "output_type": "execute_result",
          "data": {
            "text/plain": [
              "0.5616704435092262"
            ]
          },
          "metadata": {
            "tags": []
          },
          "execution_count": 256
        }
      ]
    },
    {
      "cell_type": "code",
      "metadata": {
        "colab_type": "code",
        "id": "1uC1oH_8Di0V",
        "outputId": "be7f97dc-ab01-45b4-b8c1-42161275c58a",
        "colab": {
          "base_uri": "https://localhost:8080/",
          "height": 102
        }
      },
      "source": [
        "confusion_matrix(Y, preds)"
      ],
      "execution_count": 0,
      "outputs": [
        {
          "output_type": "execute_result",
          "data": {
            "text/plain": [
              "array([[4486,  106,    0,    0,    0],\n",
              "       [ 764, 2454,    0,    0,    0],\n",
              "       [1372,  252,    0,    0,    0],\n",
              "       [1230,  180,    0,    0,    0],\n",
              "       [1232,  280,    0,    0,    0]])"
            ]
          },
          "metadata": {
            "tags": []
          },
          "execution_count": 257
        }
      ]
    },
    {
      "cell_type": "code",
      "metadata": {
        "id": "k0JokVAIgr3I",
        "colab_type": "code",
        "outputId": "1079ca2f-26dd-4021-8691-d65fd82a1c30",
        "colab": {
          "base_uri": "https://localhost:8080/",
          "height": 34
        }
      },
      "source": [
        "gc.collect()"
      ],
      "execution_count": 0,
      "outputs": [
        {
          "output_type": "execute_result",
          "data": {
            "text/plain": [
              "164"
            ]
          },
          "metadata": {
            "tags": []
          },
          "execution_count": 258
        }
      ]
    },
    {
      "cell_type": "code",
      "metadata": {
        "id": "AVs9LtaVewiv",
        "colab_type": "code",
        "colab": {}
      },
      "source": [
        "preds = []\n",
        "for x in xval:\n",
        "    pred = np.argmax(model.eval()(x).cpu().detach().numpy(), 1)\n",
        "    preds.extend(pred)\n",
        "preds = np.array(preds)"
      ],
      "execution_count": 0,
      "outputs": []
    },
    {
      "cell_type": "code",
      "metadata": {
        "id": "8O9RyP9RfqZu",
        "colab_type": "code",
        "colab": {}
      },
      "source": [
        "Y = torch.from_numpy(yval)"
      ],
      "execution_count": 0,
      "outputs": []
    },
    {
      "cell_type": "code",
      "metadata": {
        "id": "iy2lIEGiftl9",
        "colab_type": "code",
        "outputId": "41ca0cea-158a-4ee1-aba0-535f8c38252f",
        "colab": {
          "base_uri": "https://localhost:8080/",
          "height": 34
        }
      },
      "source": [
        "accuracy_score(Y, preds)"
      ],
      "execution_count": 0,
      "outputs": [
        {
          "output_type": "execute_result",
          "data": {
            "text/plain": [
              "0.5710843373493976"
            ]
          },
          "metadata": {
            "tags": []
          },
          "execution_count": 261
        }
      ]
    },
    {
      "cell_type": "code",
      "metadata": {
        "id": "Dm3NG1Kafw4d",
        "colab_type": "code",
        "outputId": "1a182763-d4cb-4b3b-883f-0e81f08ace31",
        "colab": {
          "base_uri": "https://localhost:8080/",
          "height": 102
        }
      },
      "source": [
        "confusion_matrix(Y, preds)"
      ],
      "execution_count": 0,
      "outputs": [
        {
          "output_type": "execute_result",
          "data": {
            "text/plain": [
              "array([[448,  69,   0,   0,   0],\n",
              "       [155,  26,   0,   0,   0],\n",
              "       [ 22,   6,   0,   0,   0],\n",
              "       [ 67,  12,   0,   0,   0],\n",
              "       [ 21,   4,   0,   0,   0]])"
            ]
          },
          "metadata": {
            "tags": []
          },
          "execution_count": 262
        }
      ]
    },
    {
      "cell_type": "code",
      "metadata": {
        "id": "fW70-cBWf7Iw",
        "colab_type": "code",
        "outputId": "602abcc0-0779-43f6-b473-78b5d9a9b9df",
        "colab": {
          "base_uri": "https://localhost:8080/",
          "height": 34
        }
      },
      "source": [
        "gc.collect()"
      ],
      "execution_count": 0,
      "outputs": [
        {
          "output_type": "execute_result",
          "data": {
            "text/plain": [
              "164"
            ]
          },
          "metadata": {
            "tags": []
          },
          "execution_count": 263
        }
      ]
    },
    {
      "cell_type": "code",
      "metadata": {
        "id": "H2OLGce4AcYC",
        "colab_type": "code",
        "colab": {}
      },
      "source": [
        "###########################################################################\n",
        "###########################################################################\n",
        "###########################################################################\n",
        "###########################################################################"
      ],
      "execution_count": 0,
      "outputs": []
    },
    {
      "cell_type": "code",
      "metadata": {
        "id": "pY4AJDXDAmHe",
        "colab_type": "code",
        "colab": {}
      },
      "source": [
        "def sound2features(filename, length = 48000):\n",
        "    sr, y = wavfile.read(filename)\n",
        "    y = y.astype('float32')\n",
        "    y = np.mean(y,axis=1)/32767\n",
        "    y = np.concatenate((y[:length-1], np.zeros((max(length-len(y), 1)))), axis=0)\n",
        "    mfcc = librosa.feature.mfcc(\n",
        "                y=y, sr=sr, hop_length=512)\n",
        "    spectral_center = librosa.feature.spectral_centroid(\n",
        "                y=y, sr=sr, hop_length=512)\n",
        "    chroma = librosa.feature.chroma_stft(y=y, sr=sr, hop_length=512)\n",
        "    spectral_contrast = librosa.feature.spectral_contrast(\n",
        "                y=y, sr=sr, hop_length=512)\n",
        "    spectral_bandwidth = librosa.feature.spectral_bandwidth(y=y, sr=sr, hop_length=512)\n",
        "    flatness = librosa.feature.spectral_flatness(y=y, hop_length=512)\n",
        "    zero_crossing = librosa.feature.zero_crossing_rate(y, hop_length=512)\n",
        "    #mel = librosa.feature.melspectrogram(y=y, sr=sr, hop_length=512)\n",
        "    return np.concatenate((mfcc,spectral_center, chroma, spectral_contrast, spectral_bandwidth, flatness, zero_crossing), 0)"
      ],
      "execution_count": 0,
      "outputs": []
    },
    {
      "cell_type": "code",
      "metadata": {
        "id": "hlMgd1LDAgyf",
        "colab_type": "code",
        "outputId": "2fd0964b-fbc7-4df6-9bbe-44fdd94ea5aa",
        "colab": {
          "base_uri": "https://localhost:8080/",
          "height": 34
        }
      },
      "source": [
        "sound2features(soundpath1).shape"
      ],
      "execution_count": 0,
      "outputs": [
        {
          "output_type": "execute_result",
          "data": {
            "text/plain": [
              "(43, 94)"
            ]
          },
          "metadata": {
            "tags": []
          },
          "execution_count": 336
        }
      ]
    },
    {
      "cell_type": "code",
      "metadata": {
        "id": "uCW6TOU8bdMA",
        "colab_type": "code",
        "colab": {}
      },
      "source": [
        "def folder2features(folder):\n",
        "    x = []\n",
        "    y = []\n",
        "    for p in folder.ls():\n",
        "        tag = str(p).split(\"/\")[-1]\n",
        "        print(tag, end = \" \")\n",
        "        for soundfile in p.ls():\n",
        "            x.append(sound2features(str(soundfile)))\n",
        "            y.append(d[tag])\n",
        "    x = np.array(x)\n",
        "    y = np.array(y)\n",
        "    return x, y"
      ],
      "execution_count": 0,
      "outputs": []
    },
    {
      "cell_type": "code",
      "metadata": {
        "colab_type": "code",
        "outputId": "1001fb8c-a3d6-4eb8-9314-e398add0f496",
        "id": "nPEvkmx-uHqI",
        "colab": {
          "base_uri": "https://localhost:8080/",
          "height": 34
        }
      },
      "source": [
        "x_train, y_train = folder2features(Path('meld/train/'))"
      ],
      "execution_count": 0,
      "outputs": [
        {
          "output_type": "stream",
          "text": [
            "neutral happy disgust sad fear "
          ],
          "name": "stdout"
        }
      ]
    },
    {
      "cell_type": "code",
      "metadata": {
        "colab_type": "code",
        "outputId": "4dc72f2a-cd81-40e0-81de-a6b424b0cb6c",
        "id": "XrrrByaUuHql",
        "colab": {
          "base_uri": "https://localhost:8080/",
          "height": 34
        }
      },
      "source": [
        "x_val, y_val = folder2features(Path('meld/val/'))"
      ],
      "execution_count": 0,
      "outputs": [
        {
          "output_type": "stream",
          "text": [
            "neutral happy disgust sad fear "
          ],
          "name": "stdout"
        }
      ]
    },
    {
      "cell_type": "code",
      "metadata": {
        "colab_type": "code",
        "id": "k_zkWEMduHq1",
        "colab": {}
      },
      "source": [
        "#scaler = MinMaxScaler()\n",
        "#x_train = scaler.fit_transform(x_train)\n",
        "#x_val = scaler.transform(x_val)"
      ],
      "execution_count": 0,
      "outputs": []
    },
    {
      "cell_type": "code",
      "metadata": {
        "colab_type": "code",
        "id": "wFMHxA_HuHrF",
        "colab": {}
      },
      "source": [
        "#with open('xtrain.pkl','wb') as f: pickle.dump(x_train, f)\n",
        "#with open('ytrain.pkl','wb') as f: pickle.dump(y_train, f)\n",
        "#with open('xval.pkl','wb') as f: pickle.dump(x_val, f)\n",
        "#with open('yval.pkl','wb') as f: pickle.dump(y_val, f)"
      ],
      "execution_count": 0,
      "outputs": []
    },
    {
      "cell_type": "code",
      "metadata": {
        "colab_type": "code",
        "id": "SLxVqVnBuHrS",
        "colab": {}
      },
      "source": [
        "with open('xtrain.pkl','rb') as f: x_train = pickle.load(f)\n",
        "with open('ytrain.pkl','rb') as f: y_train = pickle.load(f)\n",
        "with open('xval.pkl','rb') as f: x_val = pickle.load(f)\n",
        "with open('yval.pkl','rb') as f: y_val = pickle.load(f)"
      ],
      "execution_count": 0,
      "outputs": []
    },
    {
      "cell_type": "code",
      "metadata": {
        "colab_type": "code",
        "id": "yxsDtZqYjGbz",
        "colab": {}
      },
      "source": [
        "ct = {0:0, 1:0, 2:0, 3:0, 4:0}"
      ],
      "execution_count": 0,
      "outputs": []
    },
    {
      "cell_type": "code",
      "metadata": {
        "colab_type": "code",
        "id": "1udqjgYujGcG",
        "colab": {}
      },
      "source": [
        "for i in y_train:\n",
        "    ct[i]+=1"
      ],
      "execution_count": 0,
      "outputs": []
    },
    {
      "cell_type": "code",
      "metadata": {
        "colab_type": "code",
        "outputId": "7bddbb29-531f-4241-9c13-91b299bcfea5",
        "id": "_dPLq218jGcP",
        "colab": {
          "base_uri": "https://localhost:8080/",
          "height": 34
        }
      },
      "source": [
        "ct"
      ],
      "execution_count": 441,
      "outputs": [
        {
          "output_type": "execute_result",
          "data": {
            "text/plain": [
              "{0: 4592, 1: 1609, 2: 232, 3: 705, 4: 216}"
            ]
          },
          "metadata": {
            "tags": []
          },
          "execution_count": 441
        }
      ]
    },
    {
      "cell_type": "code",
      "metadata": {
        "colab_type": "code",
        "outputId": "78cc3511-c76b-49c3-f2ee-98d2033753ee",
        "id": "7cBDZARCjGcY",
        "colab": {
          "base_uri": "https://localhost:8080/",
          "height": 34
        }
      },
      "source": [
        "print(4592, 4592+1609, 4592+1609+232, 4592+1609+232+705, 4592+1609+232+705+216)"
      ],
      "execution_count": 442,
      "outputs": [
        {
          "output_type": "stream",
          "text": [
            "4592 6201 6433 7138 7354\n"
          ],
          "name": "stdout"
        }
      ]
    },
    {
      "cell_type": "code",
      "metadata": {
        "colab_type": "code",
        "id": "HN-7KASRjGcf",
        "colab": {}
      },
      "source": [
        "oversample = [1, 3, 17, 6, 18] "
      ],
      "execution_count": 0,
      "outputs": []
    },
    {
      "cell_type": "code",
      "metadata": {
        "id": "KdFtFhZNI1CU",
        "colab_type": "code",
        "colab": {
          "base_uri": "https://localhost:8080/",
          "height": 34
        },
        "outputId": "4661f7da-ac81-42f3-8bb3-d8ee979acd39"
      },
      "source": [
        "x_trainnew = []\n",
        "y_trainnew = []\n",
        "for x,y in zip(x_train,y_train):\n",
        "    x_trainnew.extend([x]*oversample[y])\n",
        "    y_trainnew.extend([y]*oversample[y])\n",
        "x_trainnew = np.array(x_trainnew)\n",
        "y_trainnew = np.array(y_trainnew)\n",
        "x_trainnew.shape, y_trainnew.shape"
      ],
      "execution_count": 444,
      "outputs": [
        {
          "output_type": "execute_result",
          "data": {
            "text/plain": [
              "((21481, 43, 94), (21481,))"
            ]
          },
          "metadata": {
            "tags": []
          },
          "execution_count": 444
        }
      ]
    },
    {
      "cell_type": "code",
      "metadata": {
        "colab_type": "code",
        "id": "_eyLIDN9jGcm",
        "colab": {}
      },
      "source": [
        "x_trainnew = []\n",
        "#x_trainnew.extend(x_train[:4592])\n",
        "x_trainnew.extend(x_train[:230])\n",
        "#for i in range(oversample[0]):\n",
        "#    x_trainnew.extend(x_train[4592:6201])\n",
        "x_trainnew.extend(x_train[4592:4592+230])\n",
        "#for i in range(oversample[1]):\n",
        "#    x_trainnew.extend(x_train[6201:6433])\n",
        "x_trainnew.extend(x_train[6201:6433])\n",
        "#for i in range(oversample[2]):\n",
        "#    x_trainnew.extend(x_train[6433:7138])\n",
        "x_trainnew.extend(x_train[6433:6433+230])\n",
        "#for i in range(oversample[3]):\n",
        "#    x_trainnew.extend(x_train[7138:])\n",
        "x_trainnew.extend(x_train[7138:])\n",
        "x_trainnew = np.array(x_trainnew)"
      ],
      "execution_count": 0,
      "outputs": []
    },
    {
      "cell_type": "code",
      "metadata": {
        "colab_type": "code",
        "id": "65VWebVEjGct",
        "colab": {}
      },
      "source": [
        "y_trainnew = []\n",
        "#y_trainnew.extend(y_train[:4592])\n",
        "y_trainnew.extend(y_train[:230])\n",
        "#for i in range(oversample[0]):\n",
        "#    y_trainnew.extend(y_train[4592:6201])\n",
        "y_trainnew.extend(y_train[4592:4592+230])\n",
        "#for i in range(oversample[1]):\n",
        "#    y_trainnew.extend(y_train[6201:6433])\n",
        "y_trainnew.extend(y_train[6201:6433])\n",
        "#for i in range(oversample[2]):\n",
        "#    y_trainnew.extend(y_train[6433:7138])\n",
        "y_trainnew.extend(y_train[6433:6433+230])\n",
        "#for i in range(oversample[3]):\n",
        "#    y_trainnew.extend(y_train[7138:])\n",
        "y_trainnew.extend(y_train[7138:])\n",
        "y_trainnew = np.array(y_trainnew)"
      ],
      "execution_count": 0,
      "outputs": []
    },
    {
      "cell_type": "code",
      "metadata": {
        "colab_type": "code",
        "id": "bkwfHT3WjGcz",
        "colab": {}
      },
      "source": [
        "x_train, x_test, y_train, y_test = train_test_split(x_train, y_train, test_size=0.001, random_state=42)\n",
        "x_trainnew, x_testnew, y_trainnew, y_testnew = train_test_split(x_trainnew, y_trainnew, test_size=0.001, random_state=42)"
      ],
      "execution_count": 0,
      "outputs": []
    },
    {
      "cell_type": "code",
      "metadata": {
        "id": "YyKlWRlDtwj4",
        "colab_type": "code",
        "outputId": "ad0c381c-3f67-4153-fc9c-513d9dd55562",
        "colab": {
          "base_uri": "https://localhost:8080/",
          "height": 119
        }
      },
      "source": [
        "train_X = torch.from_numpy(x_train).type(torch.Tensor).cuda()\n",
        "trainnew_X = torch.from_numpy(x_trainnew).type(torch.Tensor).cuda()\n",
        "dev_X = torch.from_numpy(x_val).type(torch.Tensor).cuda()\n",
        "\n",
        "train_Y = torch.from_numpy(y_train).type(torch.LongTensor).cuda()\n",
        "trainnew_Y = torch.from_numpy(y_trainnew).type(torch.LongTensor).cuda()\n",
        "dev_Y = torch.from_numpy(y_val).type(torch.LongTensor).cuda()\n",
        "\n",
        "print(\"Training X shape: \" + str(train_X.shape))\n",
        "print(\"Training Y shape: \" + str(train_Y.shape))\n",
        "print(\"Training new X shape: \" + str(trainnew_X.shape))\n",
        "print(\"Training new Y shape: \" + str(trainnew_Y.shape))\n",
        "print(\"Validation X shape: \" + str(dev_X.shape))\n",
        "print(\"Validation Y shape: \" + str(dev_Y.shape))"
      ],
      "execution_count": 446,
      "outputs": [
        {
          "output_type": "stream",
          "text": [
            "Training X shape: torch.Size([7346, 43, 94])\n",
            "Training Y shape: torch.Size([7346])\n",
            "Training new X shape: torch.Size([21459, 43, 94])\n",
            "Training new Y shape: torch.Size([21459])\n",
            "Validation X shape: torch.Size([830, 43, 94])\n",
            "Validation Y shape: torch.Size([830])\n"
          ],
          "name": "stdout"
        }
      ]
    },
    {
      "cell_type": "code",
      "metadata": {
        "id": "yQUfOXQwXoGT",
        "colab_type": "code",
        "colab": {}
      },
      "source": [
        "trnx = train_X\n",
        "trny = train_Y\n",
        "trnnewx = trainnew_X\n",
        "trnnewy = trainnew_Y\n",
        "valx = dev_X\n",
        "valy = dev_Y"
      ],
      "execution_count": 0,
      "outputs": []
    },
    {
      "cell_type": "code",
      "metadata": {
        "id": "dqur3kr4xKhh",
        "colab_type": "code",
        "colab": {}
      },
      "source": [
        "model = nn.Sequential(\n",
        "    nn.Conv1d(43, 50, 10),\n",
        "    nn.BatchNorm1d(50,),\n",
        "    nn.MaxPool1d(kernel_size=2, stride=2),\n",
        "    nn.Dropout(0.2),\n",
        "    nn.Conv1d(50, 100, 10),\n",
        "    nn.BatchNorm1d(100),\n",
        "    nn.MaxPool1d(kernel_size=2, stride=2),\n",
        "    nn.Dropout(0.2),\n",
        "    nn.Conv1d(100, 200, 10),\n",
        "    nn.BatchNorm1d(200),\n",
        "    nn.Dropout(0.2),\n",
        "    nn.AdaptiveAvgPool1d(1),\n",
        "    Flatten(),\n",
        "    nn.Linear(200, 5)\n",
        ").cuda()"
      ],
      "execution_count": 0,
      "outputs": []
    },
    {
      "cell_type": "code",
      "metadata": {
        "id": "cJs2oOjmNyke",
        "colab_type": "code",
        "colab": {}
      },
      "source": [
        "def conv2(ni,nf): return conv_layer(ni,nf,stride=2)"
      ],
      "execution_count": 0,
      "outputs": []
    },
    {
      "cell_type": "code",
      "metadata": {
        "id": "8RskEb3rMS7i",
        "colab_type": "code",
        "colab": {}
      },
      "source": [
        "model = nn.Sequential(\n",
        "    conv2(1, 32),\n",
        "    conv2(32, 64),\n",
        "    conv2(64, 128),\n",
        "    conv2(128, 256),\n",
        "    nn.AdaptiveMaxPool2d((1,5)),\n",
        "    Flatten(),\n",
        "    nn.Linear(1280,100),\n",
        "    nn.ReLU(inplace=True),\n",
        "    nn.Linear(100,5)\n",
        ").cuda()"
      ],
      "execution_count": 0,
      "outputs": []
    },
    {
      "cell_type": "code",
      "metadata": {
        "id": "8YMeeUtsPaqr",
        "colab_type": "code",
        "colab": {}
      },
      "source": [
        "class_weights = torch.FloatTensor(np.array([1,2,6,3,5])).cuda()"
      ],
      "execution_count": 0,
      "outputs": []
    },
    {
      "cell_type": "code",
      "metadata": {
        "id": "ZdmDT9xJXNy2",
        "colab_type": "code",
        "colab": {}
      },
      "source": [
        "loss_function = nn.CrossEntropyLoss(weight = class_weights)\n",
        "#loss_function = nn.CrossEntropyLoss()\n",
        "#loss_function = LabelSmoothingCrossEntropy()\n",
        "optimizer = optim.Adam(model.parameters(), lr=0.001, betas=(0.9,0.99), eps=1e-6)\n",
        "#optimizer = optim.RMSprop(model.parameters(), lr=0.01, alpha=0.99, eps=1e-6)\n",
        "#optimizer = optim.SGD(model.parameters(), lr=0.001, momentum=0.9)\n",
        "\n",
        "bs = 128"
      ],
      "execution_count": 0,
      "outputs": []
    },
    {
      "cell_type": "code",
      "metadata": {
        "colab_type": "code",
        "id": "Tuf-qcG6ZfDy",
        "colab": {}
      },
      "source": [
        "def run_batch(X,Y,start,end):\n",
        "    model.zero_grad()\n",
        "    noise = torch.normal(0, 0.01, size=X[start:end].shape).cuda()\n",
        "    preds = model(X[start:end].view(len(X[start:end]), 1, 43, 94))\n",
        "    #print(preds)\n",
        "    #print(preds.shape, Y[start:end].shape)\n",
        "    loss = loss_function(preds, Y[start:end])\n",
        "    loss.backward()\n",
        "    optimizer.step()\n",
        "    return loss.detach().item()"
      ],
      "execution_count": 0,
      "outputs": []
    },
    {
      "cell_type": "code",
      "metadata": {
        "colab_type": "code",
        "id": "gpEXKn71ZfD_",
        "colab": {}
      },
      "source": [
        "def train(epochs = 100, bs = bs):\n",
        "    for epoch in range(epochs):\n",
        "        i=0\n",
        "        total_loss = 0.0\n",
        "        ct = 0\n",
        "        while i < len(trnnewx):\n",
        "            total_loss += run_batch(trnnewx,trnnewy,i,i+bs)\n",
        "            i+=bs\n",
        "            ct+=1\n",
        "            #print(total_loss/bs)\n",
        "        total_loss /= ct\n",
        "        val_loss = 0.0\n",
        "        i=0\n",
        "        ct=0\n",
        "        \n",
        "        if True or epoch % 10 == 0:\n",
        "            while i < len(valx):\n",
        "                preds = model.eval()(valx[i:i+bs].view((len(valx[i:i+bs]), 1, 43, 94)))\n",
        "                val_loss += loss_function(preds, valy[i:i+bs])\n",
        "                i+=bs\n",
        "                ct += 1\n",
        "            val_loss /= ct\n",
        "            print('epoch',epoch+1,'  ','train loss', \"%.3f\" % total_loss, '  val loss', \"%.3f\" % val_loss)\n",
        "        else :\n",
        "            print('epoch',epoch+1,'  ','train loss', \"%.3f\" % total_loss)"
      ],
      "execution_count": 0,
      "outputs": []
    },
    {
      "cell_type": "code",
      "metadata": {
        "colab_type": "code",
        "id": "ZUewrX1WZfEC",
        "colab": {
          "base_uri": "https://localhost:8080/",
          "height": 187
        },
        "outputId": "f1751825-1b25-47fe-8617-5f58692b78d9"
      },
      "source": [
        "train(10)"
      ],
      "execution_count": 490,
      "outputs": [
        {
          "output_type": "stream",
          "text": [
            "epoch 1    train loss 0.725   val loss 1.851\n",
            "epoch 2    train loss 0.210   val loss 2.554\n",
            "epoch 3    train loss 0.111   val loss 2.866\n",
            "epoch 4    train loss 0.111   val loss 3.364\n",
            "epoch 5    train loss 0.064   val loss 3.515\n",
            "epoch 6    train loss 0.054   val loss 3.685\n",
            "epoch 7    train loss 0.056   val loss 4.628\n",
            "epoch 8    train loss 0.057   val loss 4.015\n",
            "epoch 9    train loss 0.034   val loss 4.216\n",
            "epoch 10    train loss 0.050   val loss 5.249\n"
          ],
          "name": "stdout"
        }
      ]
    },
    {
      "cell_type": "code",
      "metadata": {
        "id": "KKC-0bzbnnc8",
        "colab_type": "code",
        "colab": {
          "base_uri": "https://localhost:8080/",
          "height": 34
        },
        "outputId": "a5383bb6-50e8-4385-de2b-84352b42b941"
      },
      "source": [
        "gc.collect()"
      ],
      "execution_count": 491,
      "outputs": [
        {
          "output_type": "execute_result",
          "data": {
            "text/plain": [
              "0"
            ]
          },
          "metadata": {
            "tags": []
          },
          "execution_count": 491
        }
      ]
    },
    {
      "cell_type": "code",
      "metadata": {
        "colab_type": "code",
        "id": "6sjZ9qbEZfEI",
        "colab": {
          "base_uri": "https://localhost:8080/",
          "height": 34
        },
        "outputId": "225077d5-6fca-439a-a7bb-d48ee2f8f46e"
      },
      "source": [
        "# Training Data\n",
        "i = 0\n",
        "ct = 0\n",
        "preds = []\n",
        "while i < len(trnx):\n",
        "    preds.extend(np.argmax(model.eval()(trnx[i:i+bs].view(len(trnx[i:i+bs]),1,43,94)).cpu().detach().numpy(), 1))\n",
        "    i+=bs\n",
        "accuracy_score(trny, preds)"
      ],
      "execution_count": 492,
      "outputs": [
        {
          "output_type": "execute_result",
          "data": {
            "text/plain": [
              "0.9720936564116526"
            ]
          },
          "metadata": {
            "tags": []
          },
          "execution_count": 492
        }
      ]
    },
    {
      "cell_type": "code",
      "metadata": {
        "colab_type": "code",
        "id": "ZMR3QLcyZfEN",
        "colab": {
          "base_uri": "https://localhost:8080/",
          "height": 102
        },
        "outputId": "c965c559-5728-4315-ce76-ed6688800027"
      },
      "source": [
        "confusion_matrix(trny, preds)"
      ],
      "execution_count": 493,
      "outputs": [
        {
          "output_type": "execute_result",
          "data": {
            "text/plain": [
              "array([[4454,   58,   29,   40,    6],\n",
              "       [  50, 1549,    2,    5,    1],\n",
              "       [   0,    0,  232,    0,    0],\n",
              "       [  11,    1,    1,  691,    1],\n",
              "       [   0,    0,    0,    0,  215]])"
            ]
          },
          "metadata": {
            "tags": []
          },
          "execution_count": 493
        }
      ]
    },
    {
      "cell_type": "code",
      "metadata": {
        "colab_type": "code",
        "id": "sii5dsxeZfEi",
        "colab": {
          "base_uri": "https://localhost:8080/",
          "height": 34
        },
        "outputId": "bf13975c-165c-442f-b1e8-f002b331e29d"
      },
      "source": [
        "# Validation Data\n",
        "i = 0\n",
        "ct = 0\n",
        "preds = []\n",
        "while i < len(valx):\n",
        "    preds.extend(np.argmax(model.eval()(valx[i:i+bs].view(len(valx[i:i+bs]),1,43,94)).cpu().detach().numpy(), 1))\n",
        "    i+=bs\n",
        "accuracy_score(valy, preds)"
      ],
      "execution_count": 494,
      "outputs": [
        {
          "output_type": "execute_result",
          "data": {
            "text/plain": [
              "0.536144578313253"
            ]
          },
          "metadata": {
            "tags": []
          },
          "execution_count": 494
        }
      ]
    },
    {
      "cell_type": "code",
      "metadata": {
        "colab_type": "code",
        "id": "WJ781gwWZfEp",
        "colab": {
          "base_uri": "https://localhost:8080/",
          "height": 102
        },
        "outputId": "357a104c-682a-4c2e-baf1-1c44c2f6d894"
      },
      "source": [
        "confusion_matrix(valy, preds)"
      ],
      "execution_count": 495,
      "outputs": [
        {
          "output_type": "execute_result",
          "data": {
            "text/plain": [
              "array([[412,  69,  14,  20,   2],\n",
              "       [142,  27,   1,   9,   2],\n",
              "       [ 22,   5,   0,   1,   0],\n",
              "       [ 64,   9,   0,   6,   0],\n",
              "       [ 19,   3,   0,   3,   0]])"
            ]
          },
          "metadata": {
            "tags": []
          },
          "execution_count": 495
        }
      ]
    },
    {
      "cell_type": "code",
      "metadata": {
        "id": "zY5YUYDtrzBE",
        "colab_type": "code",
        "colab": {}
      },
      "source": [
        "############################################################################\n",
        "############################################################################\n",
        "############################################################################\n",
        "############################################################################"
      ],
      "execution_count": 0,
      "outputs": []
    },
    {
      "cell_type": "code",
      "metadata": {
        "id": "dDoZ3nhQZTQr",
        "colab_type": "code",
        "colab": {}
      },
      "source": [
        "def sound2features(filename, length = 48000):\n",
        "    y, sr = librosa.load(filename)\n",
        "    return y\n",
        "    sr, y = wavfile.read(filename)\n",
        "    y = y.astype('float32')\n",
        "    y = np.mean(y,axis=1)/32767\n",
        "    y = np.concatenate((y[:length-1], np.zeros((max(length-len(y), 1)))), axis=0)\n",
        "    mfcc = librosa.feature.mfcc(\n",
        "                y=y, sr=sr, hop_length=512)\n",
        "    spectral_center = librosa.feature.spectral_centroid(\n",
        "                y=y, sr=sr, hop_length=512)\n",
        "    chroma = librosa.feature.chroma_stft(y=y, sr=sr, hop_length=512)\n",
        "    spectral_contrast = librosa.feature.spectral_contrast(\n",
        "                y=y, sr=sr, hop_length=512)\n",
        "    spectral_bandwidth = librosa.feature.spectral_bandwidth(y=y, sr=sr, hop_length=512)\n",
        "    flatness = librosa.feature.spectral_flatness(y=y, hop_length=512)\n",
        "    zero_crossing = librosa.feature.zero_crossing_rate(y, hop_length=512)\n",
        "    #mel = librosa.feature.melspectrogram(y=y, sr=sr, hop_length=512)\n",
        "    return np.concatenate((mfcc,spectral_center, chroma, spectral_contrast, spectral_bandwidth, flatness, zero_crossing), 0)"
      ],
      "execution_count": 0,
      "outputs": []
    },
    {
      "cell_type": "code",
      "metadata": {
        "colab_type": "code",
        "outputId": "422ca99c-871b-4c8c-b6e0-cc978dda2413",
        "id": "B-_GYSJMsMB-",
        "colab": {
          "base_uri": "https://localhost:8080/",
          "height": 34
        }
      },
      "source": [
        "sound2features(soundpath1)"
      ],
      "execution_count": 266,
      "outputs": [
        {
          "output_type": "execute_result",
          "data": {
            "text/plain": [
              "array([ 0.000969,  0.001546,  0.001333,  0.000748, ...,  0.007583,  0.000993, -0.002424,  0.      ], dtype=float32)"
            ]
          },
          "metadata": {
            "tags": []
          },
          "execution_count": 266
        }
      ]
    },
    {
      "cell_type": "code",
      "metadata": {
        "colab_type": "code",
        "id": "aITgSijzsMDD",
        "colab": {}
      },
      "source": [
        "def folder2features(folder):\n",
        "    x = []\n",
        "    y = []\n",
        "    for p in folder.ls():\n",
        "        tag = str(p).split(\"/\")[-1]\n",
        "        print(tag, end = \" \")\n",
        "        for soundfile in p.ls():\n",
        "            x.append(sound2features(str(soundfile)))\n",
        "            y.append(d[tag])\n",
        "    x = np.array(x)\n",
        "    y = np.array(y)\n",
        "    return x, y"
      ],
      "execution_count": 0,
      "outputs": []
    },
    {
      "cell_type": "code",
      "metadata": {
        "colab_type": "code",
        "outputId": "22ec7da0-1224-490c-9bdb-7f08ee2b7dd3",
        "id": "KpNMFCOvsMDT",
        "colab": {
          "base_uri": "https://localhost:8080/",
          "height": 34
        }
      },
      "source": [
        "x_train, y_train = folder2features(Path('meld/train/'))"
      ],
      "execution_count": 19,
      "outputs": [
        {
          "output_type": "stream",
          "text": [
            "happy neutral disgust fear sad "
          ],
          "name": "stdout"
        }
      ]
    },
    {
      "cell_type": "code",
      "metadata": {
        "colab_type": "code",
        "outputId": "71dff0ae-3459-44ff-cddf-fc2aeef1d5e2",
        "id": "6tb5h-qisMDg",
        "colab": {
          "base_uri": "https://localhost:8080/",
          "height": 34
        }
      },
      "source": [
        "x_val, y_val = folder2features(Path('meld/val/'))"
      ],
      "execution_count": 20,
      "outputs": [
        {
          "output_type": "stream",
          "text": [
            "happy neutral disgust fear sad "
          ],
          "name": "stdout"
        }
      ]
    },
    {
      "cell_type": "code",
      "metadata": {
        "colab_type": "code",
        "id": "zg6sowZG137c",
        "colab": {}
      },
      "source": [
        "#with open('xtrain.pkl','wb') as f: pickle.dump(x_train, f)\n",
        "#with open('ytrain.pkl','wb') as f: pickle.dump(y_train, f)\n",
        "#with open('xval.pkl','wb') as f: pickle.dump(x_val, f)\n",
        "#with open('yval.pkl','wb') as f: pickle.dump(y_val, f)"
      ],
      "execution_count": 0,
      "outputs": []
    },
    {
      "cell_type": "code",
      "metadata": {
        "colab_type": "code",
        "id": "1cH19lsz137j",
        "colab": {}
      },
      "source": [
        "with open('xtrain.pkl','rb') as f: x_train = pickle.load(f)\n",
        "with open('ytrain.pkl','rb') as f: y_train = pickle.load(f)\n",
        "with open('xval.pkl','rb') as f: x_val = pickle.load(f)\n",
        "with open('yval.pkl','rb') as f: y_val = pickle.load(f)"
      ],
      "execution_count": 0,
      "outputs": []
    },
    {
      "cell_type": "code",
      "metadata": {
        "colab_type": "code",
        "id": "SvKGUN15BB9J",
        "colab": {}
      },
      "source": [
        "ct = {0:0, 1:0, 2:0, 3:0, 4:0}"
      ],
      "execution_count": 0,
      "outputs": []
    },
    {
      "cell_type": "code",
      "metadata": {
        "colab_type": "code",
        "id": "QKWb6luPBB9P",
        "colab": {}
      },
      "source": [
        "for i in y_train:\n",
        "    ct[i]+=1"
      ],
      "execution_count": 0,
      "outputs": []
    },
    {
      "cell_type": "code",
      "metadata": {
        "colab_type": "code",
        "outputId": "c2ec1af4-c355-4bc6-a221-905f23be8e15",
        "id": "GA_UdyqdBB9R",
        "colab": {
          "base_uri": "https://localhost:8080/",
          "height": 34
        }
      },
      "source": [
        "ct"
      ],
      "execution_count": 602,
      "outputs": [
        {
          "output_type": "execute_result",
          "data": {
            "text/plain": [
              "{0: 4592, 1: 1609, 2: 232, 3: 705, 4: 216}"
            ]
          },
          "metadata": {
            "tags": []
          },
          "execution_count": 602
        }
      ]
    },
    {
      "cell_type": "code",
      "metadata": {
        "colab_type": "code",
        "outputId": "02ae4d39-a00e-464d-ec01-5d8f33f32a07",
        "id": "QCG29yznBB9a",
        "colab": {
          "base_uri": "https://localhost:8080/",
          "height": 34
        }
      },
      "source": [
        "print(4592, 4592+1609, 4592+1609+232, 4592+1609+232+705, 4592+1609+232+705+216)"
      ],
      "execution_count": 603,
      "outputs": [
        {
          "output_type": "stream",
          "text": [
            "4592 6201 6433 7138 7354\n"
          ],
          "name": "stdout"
        }
      ]
    },
    {
      "cell_type": "code",
      "metadata": {
        "colab_type": "code",
        "id": "lPGCl2xiA3M5",
        "colab": {}
      },
      "source": [
        "oversample = [1,3, 17, 6, 18] "
      ],
      "execution_count": 0,
      "outputs": []
    },
    {
      "cell_type": "code",
      "metadata": {
        "id": "1EvdnnjfBh_c",
        "colab_type": "code",
        "colab": {
          "base_uri": "https://localhost:8080/",
          "height": 34
        },
        "outputId": "ef85a1ea-d791-4b55-b9d4-c4ee8634c63e"
      },
      "source": [
        "x_trainnew = []\n",
        "y_trainnew = []\n",
        "for x,y in zip(x_train,y_train):\n",
        "    x_trainnew.extend([x]*oversample[y])\n",
        "    y_trainnew.extend([y]*oversample[y])\n",
        "x_trainnew = np.array(x_trainnew)\n",
        "y_trainnew = np.array(y_trainnew)\n",
        "x_trainnew.shape, y_trainnew.shape"
      ],
      "execution_count": 605,
      "outputs": [
        {
          "output_type": "execute_result",
          "data": {
            "text/plain": [
              "((21481, 43, 94), (21481,))"
            ]
          },
          "metadata": {
            "tags": []
          },
          "execution_count": 605
        }
      ]
    },
    {
      "cell_type": "code",
      "metadata": {
        "colab_type": "code",
        "id": "jphs9bA3Al1b",
        "colab": {}
      },
      "source": [
        "x_train, x_test, y_train, y_test = train_test_split(x_train, y_train, test_size=0.001, random_state=42)\n",
        "x_trainnew, x_testnew, y_trainnew, y_testnew = train_test_split(x_trainnew, y_trainnew, test_size=0.001, random_state=42)"
      ],
      "execution_count": 0,
      "outputs": []
    },
    {
      "cell_type": "code",
      "metadata": {
        "id": "TqXVzlTm0uX2",
        "colab_type": "code",
        "colab": {}
      },
      "source": [
        "x_min = x_train.min(axis=(0,2), keepdims=True)"
      ],
      "execution_count": 0,
      "outputs": []
    },
    {
      "cell_type": "code",
      "metadata": {
        "id": "gWKpjIFV0wyx",
        "colab_type": "code",
        "colab": {}
      },
      "source": [
        "x_max = x_train.max(axis=(0,2), keepdims=True)"
      ],
      "execution_count": 0,
      "outputs": []
    },
    {
      "cell_type": "code",
      "metadata": {
        "id": "iwltLwHc1m6G",
        "colab_type": "code",
        "colab": {}
      },
      "source": [
        "x_train = (x_train - x_min)/(x_max - x_min)"
      ],
      "execution_count": 0,
      "outputs": []
    },
    {
      "cell_type": "code",
      "metadata": {
        "id": "Dcef0saQCSdS",
        "colab_type": "code",
        "colab": {}
      },
      "source": [
        "x_trainnew = (x_trainnew - x_min)/(x_max - x_min)"
      ],
      "execution_count": 0,
      "outputs": []
    },
    {
      "cell_type": "code",
      "metadata": {
        "id": "6oOgqNNa1-_j",
        "colab_type": "code",
        "colab": {}
      },
      "source": [
        "x_val = (x_val - x_min)/(x_max - x_min)"
      ],
      "execution_count": 0,
      "outputs": []
    },
    {
      "cell_type": "code",
      "metadata": {
        "id": "SvGsTDaKr7Fp",
        "colab_type": "code",
        "colab": {}
      },
      "source": [
        "import cv2"
      ],
      "execution_count": 0,
      "outputs": []
    },
    {
      "cell_type": "code",
      "metadata": {
        "id": "htZ8OQQqz-Ct",
        "colab_type": "code",
        "colab": {}
      },
      "source": [
        "from google.colab.patches import cv2_imshow"
      ],
      "execution_count": 0,
      "outputs": []
    },
    {
      "cell_type": "code",
      "metadata": {
        "id": "-vR59jCIyyAX",
        "colab_type": "code",
        "colab": {
          "base_uri": "https://localhost:8080/",
          "height": 60
        },
        "outputId": "cdf1f091-f878-46fc-ff87-4b0cfe2a336c"
      },
      "source": [
        "cv2_imshow(np.floor(x_trainnew[7009]*256))"
      ],
      "execution_count": 215,
      "outputs": [
        {
          "output_type": "display_data",
          "data": {
            "image/png": "[encoded data removed]",
            "text/plain": [
              "<PIL.Image.Image image mode=L size=94x43 at 0x7F467F79B2E8>"
            ]
          },
          "metadata": {
            "tags": []
          }
        }
      ]
    },
    {
      "cell_type": "code",
      "metadata": {
        "id": "PkX-Aq5d3RGe",
        "colab_type": "code",
        "colab": {}
      },
      "source": [
        "!rm -rf meld_images"
      ],
      "execution_count": 0,
      "outputs": []
    },
    {
      "cell_type": "code",
      "metadata": {
        "id": "KaA9rlz44hzH",
        "colab_type": "code",
        "colab": {}
      },
      "source": [
        "def save_images(xs, ys, trainorval = \"train\"):\n",
        "    parent_folder = \"meld_images\"\n",
        "    for i,(x,y) in enumerate(zip(xs,ys)):\n",
        "        dest = Path(parent_folder + \"/\" + trainorval + \"/\" + str(y) + \"/\" + str(i) + \".png\")\n",
        "        dest.parent.mkdir(parents=True, exist_ok=True)\n",
        "        saved = cv2.imwrite(str(dest), np.floor(x*256))"
      ],
      "execution_count": 0,
      "outputs": []
    },
    {
      "cell_type": "code",
      "metadata": {
        "id": "kC10wx2U5tAt",
        "colab_type": "code",
        "colab": {}
      },
      "source": [
        "save_images(x_trainnew, y_trainnew, \"train\")"
      ],
      "execution_count": 0,
      "outputs": []
    },
    {
      "cell_type": "code",
      "metadata": {
        "id": "Gr_IgQlu5vhx",
        "colab_type": "code",
        "colab": {}
      },
      "source": [
        "save_images(x_val, y_val, \"val\")"
      ],
      "execution_count": 0,
      "outputs": []
    },
    {
      "cell_type": "code",
      "metadata": {
        "id": "RxQ7KTXS6CZm",
        "colab_type": "code",
        "colab": {}
      },
      "source": [
        "path = Path(\"meld_images/\")"
      ],
      "execution_count": 0,
      "outputs": []
    },
    {
      "cell_type": "code",
      "metadata": {
        "id": "7jkRIxZy6sZI",
        "colab_type": "code",
        "colab": {}
      },
      "source": [
        "np.random.seed(42)\n",
        "data = ImageDataBunch.from_folder(path, valid = 'val', bs=64);"
      ],
      "execution_count": 0,
      "outputs": []
    },
    {
      "cell_type": "code",
      "metadata": {
        "id": "PD1Ibzqs67VZ",
        "colab_type": "code",
        "colab": {
          "base_uri": "https://localhost:8080/",
          "height": 380
        },
        "outputId": "c67363a6-5387-45c5-ba21-a8f61f270a3a"
      },
      "source": [
        "data.show_batch(rows=3, figsize=(7,6))"
      ],
      "execution_count": 254,
      "outputs": [
        {
          "output_type": "display_data",
          "data": {
            "image/png": "[encoded data removed]",
            "text/plain": [
              "<Figure size 504x432 with 9 Axes>"
            ]
          },
          "metadata": {
            "tags": []
          }
        }
      ]
    },
    {
      "cell_type": "code",
      "metadata": {
        "id": "SfmslhWH7H5b",
        "colab_type": "code",
        "colab": {
          "base_uri": "https://localhost:8080/",
          "height": 51
        },
        "outputId": "7c2ae318-8348-47bb-b09e-93491e6d504f"
      },
      "source": [
        "print(data.classes)\n",
        "len(data.classes),data.c"
      ],
      "execution_count": 255,
      "outputs": [
        {
          "output_type": "stream",
          "text": [
            "['0', '1', '2', '3', '4']\n"
          ],
          "name": "stdout"
        },
        {
          "output_type": "execute_result",
          "data": {
            "text/plain": [
              "(5, 5)"
            ]
          },
          "metadata": {
            "tags": []
          },
          "execution_count": 255
        }
      ]
    },
    {
      "cell_type": "code",
      "metadata": {
        "id": "zM-V0BlW7LZT",
        "colab_type": "code",
        "colab": {}
      },
      "source": [
        "learn = cnn_learner(data, models.resnet34, metrics=error_rate, pretrained=False)"
      ],
      "execution_count": 0,
      "outputs": []
    },
    {
      "cell_type": "code",
      "metadata": {
        "id": "axCdkPg58e-j",
        "colab_type": "code",
        "colab": {}
      },
      "source": [
        "class_weights = torch.FloatTensor(np.array([1,2,5,3,5])).cuda()\n",
        "learn.loss_func = nn.CrossEntropyLoss(weight = class_weights)"
      ],
      "execution_count": 0,
      "outputs": []
    },
    {
      "cell_type": "code",
      "metadata": {
        "id": "K-nM2KQx70f0",
        "colab_type": "code",
        "colab": {
          "base_uri": "https://localhost:8080/",
          "height": 296
        },
        "outputId": "cf6102b8-0988-4d69-b580-bfcfc088f506"
      },
      "source": [
        "learn.lr_find()\n",
        "learn.recorder.plot()"
      ],
      "execution_count": 258,
      "outputs": [
        {
          "output_type": "display_data",
          "data": {
            "text/html": [
              ""
            ],
            "text/plain": [
              "<IPython.core.display.HTML object>"
            ]
          },
          "metadata": {
            "tags": []
          }
        },
        {
          "output_type": "stream",
          "text": [
            "LR Finder is complete, type {learner_name}.recorder.plot() to see the graph.\n"
          ],
          "name": "stdout"
        },
        {
          "output_type": "display_data",
          "data": {
            "image/png": "[encoded data removed]",
            "text/plain": [
              "<Figure size 432x288 with 1 Axes>"
            ]
          },
          "metadata": {
            "tags": []
          }
        }
      ]
    },
    {
      "cell_type": "code",
      "metadata": {
        "id": "tRWYKDX07P1n",
        "colab_type": "code",
        "colab": {
          "base_uri": "https://localhost:8080/",
          "height": 359
        },
        "outputId": "448499b0-497f-4784-d026-6ae8b99d1090"
      },
      "source": [
        "learn.fit_one_cycle(10, 1e-4)"
      ],
      "execution_count": 262,
      "outputs": [
        {
          "output_type": "display_data",
          "data": {
            "text/html": [
              "<table border=\"1\" class=\"dataframe\">\n",
              "  <thead>\n",
              "    <tr style=\"text-align: left;\">\n",
              "      <th>epoch</th>\n",
              "      <th>train_loss</th>\n",
              "      <th>valid_loss</th>\n",
              "      <th>error_rate</th>\n",
              "      <th>time</th>\n",
              "    </tr>\n",
              "  </thead>\n",
              "  <tbody>\n",
              "    <tr>\n",
              "      <td>0</td>\n",
              "      <td>2.149272</td>\n",
              "      <td>1.751890</td>\n",
              "      <td>0.644578</td>\n",
              "      <td>00:09</td>\n",
              "    </tr>\n",
              "    <tr>\n",
              "      <td>1</td>\n",
              "      <td>1.356993</td>\n",
              "      <td>1.906062</td>\n",
              "      <td>0.478313</td>\n",
              "      <td>00:09</td>\n",
              "    </tr>\n",
              "    <tr>\n",
              "      <td>2</td>\n",
              "      <td>0.900400</td>\n",
              "      <td>1.842091</td>\n",
              "      <td>0.669880</td>\n",
              "      <td>00:09</td>\n",
              "    </tr>\n",
              "    <tr>\n",
              "      <td>3</td>\n",
              "      <td>0.629450</td>\n",
              "      <td>2.095556</td>\n",
              "      <td>0.689157</td>\n",
              "      <td>00:09</td>\n",
              "    </tr>\n",
              "    <tr>\n",
              "      <td>4</td>\n",
              "      <td>0.453099</td>\n",
              "      <td>2.065266</td>\n",
              "      <td>0.633735</td>\n",
              "      <td>00:09</td>\n",
              "    </tr>\n",
              "    <tr>\n",
              "      <td>5</td>\n",
              "      <td>0.331217</td>\n",
              "      <td>2.127602</td>\n",
              "      <td>0.562651</td>\n",
              "      <td>00:09</td>\n",
              "    </tr>\n",
              "    <tr>\n",
              "      <td>6</td>\n",
              "      <td>0.245285</td>\n",
              "      <td>2.206756</td>\n",
              "      <td>0.561446</td>\n",
              "      <td>00:09</td>\n",
              "    </tr>\n",
              "    <tr>\n",
              "      <td>7</td>\n",
              "      <td>0.183936</td>\n",
              "      <td>2.265404</td>\n",
              "      <td>0.524096</td>\n",
              "      <td>00:09</td>\n",
              "    </tr>\n",
              "    <tr>\n",
              "      <td>8</td>\n",
              "      <td>0.140129</td>\n",
              "      <td>2.312851</td>\n",
              "      <td>0.512048</td>\n",
              "      <td>00:09</td>\n",
              "    </tr>\n",
              "    <tr>\n",
              "      <td>9</td>\n",
              "      <td>0.109084</td>\n",
              "      <td>2.317119</td>\n",
              "      <td>0.504819</td>\n",
              "      <td>00:09</td>\n",
              "    </tr>\n",
              "  </tbody>\n",
              "</table>"
            ],
            "text/plain": [
              "<IPython.core.display.HTML object>"
            ]
          },
          "metadata": {
            "tags": []
          }
        }
      ]
    },
    {
      "cell_type": "code",
      "metadata": {
        "id": "PbPd8Kbf7htX",
        "colab_type": "code",
        "colab": {
          "base_uri": "https://localhost:8080/",
          "height": 34
        },
        "outputId": "9a4d3665-c53b-422e-9b35-df6fc9b80141"
      },
      "source": [
        "interp = ClassificationInterpretation.from_learner(learn)\n",
        "\n",
        "losses,idxs = interp.top_losses()\n",
        "\n",
        "len(data.valid_ds)==len(losses)==len(idxs)"
      ],
      "execution_count": 263,
      "outputs": [
        {
          "output_type": "execute_result",
          "data": {
            "text/plain": [
              "True"
            ]
          },
          "metadata": {
            "tags": []
          },
          "execution_count": 263
        }
      ]
    },
    {
      "cell_type": "code",
      "metadata": {
        "id": "NrMYHJWR7o-c",
        "colab_type": "code",
        "colab": {
          "base_uri": "https://localhost:8080/",
          "height": 743
        },
        "outputId": "924037ef-8a23-4d3f-f400-bd5c4c45b87d"
      },
      "source": [
        "interp.plot_confusion_matrix(figsize=(12,12), dpi=60)"
      ],
      "execution_count": 264,
      "outputs": [
        {
          "output_type": "display_data",
          "data": {
            "image/png": "[encoded data removed]",
            "text/plain": [
              "<Figure size 720x720 with 1 Axes>"
            ]
          },
          "metadata": {
            "tags": []
          }
        }
      ]
    },
    {
      "cell_type": "code",
      "metadata": {
        "id": "aq1L8--Q8HuE",
        "colab_type": "code",
        "colab": {}
      },
      "source": [
        ""
      ],
      "execution_count": 0,
      "outputs": []
    }
  ]
}